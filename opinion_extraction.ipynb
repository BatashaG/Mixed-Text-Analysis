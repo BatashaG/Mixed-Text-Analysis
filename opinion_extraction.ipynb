{
 "cells": [
  {
   "cell_type": "code",
   "execution_count": 1,
   "id": "3e16d637",
   "metadata": {},
   "outputs": [
    {
     "name": "stdout",
     "output_type": "stream",
     "text": [
      "Collecting spacy\n",
      "  Using cached spacy-3.6.1-cp39-cp39-manylinux_2_17_x86_64.manylinux2014_x86_64.whl (6.6 MB)\n",
      "Requirement already satisfied: setuptools in /opt/conda/lib/python3.9/site-packages (from spacy) (62.1.0)\n",
      "Collecting langcodes<4.0.0,>=3.2.0\n",
      "  Using cached langcodes-3.3.0-py3-none-any.whl (181 kB)\n",
      "Collecting preshed<3.1.0,>=3.0.2\n",
      "  Using cached preshed-3.0.8-cp39-cp39-manylinux_2_5_x86_64.manylinux1_x86_64.manylinux_2_17_x86_64.manylinux2014_x86_64.whl (128 kB)\n",
      "Collecting srsly<3.0.0,>=2.4.3\n",
      "  Using cached srsly-2.4.7-cp39-cp39-manylinux_2_17_x86_64.manylinux2014_x86_64.whl (492 kB)\n",
      "Collecting spacy-loggers<2.0.0,>=1.0.0\n",
      "  Using cached spacy_loggers-1.0.4-py3-none-any.whl (11 kB)\n",
      "Requirement already satisfied: packaging>=20.0 in /opt/conda/lib/python3.9/site-packages (from spacy) (21.3)\n",
      "Requirement already satisfied: numpy>=1.15.0 in /opt/conda/lib/python3.9/site-packages (from spacy) (1.21.6)\n",
      "Collecting spacy-legacy<3.1.0,>=3.0.11\n",
      "  Using cached spacy_legacy-3.0.12-py2.py3-none-any.whl (29 kB)\n",
      "Collecting smart-open<7.0.0,>=5.2.1\n",
      "  Using cached smart_open-6.3.0-py3-none-any.whl (56 kB)\n",
      "Collecting cymem<2.1.0,>=2.0.2\n",
      "  Using cached cymem-2.0.7-cp39-cp39-manylinux_2_17_x86_64.manylinux2014_x86_64.whl (35 kB)\n",
      "Requirement already satisfied: jinja2 in /opt/conda/lib/python3.9/site-packages (from spacy) (3.1.1)\n",
      "Requirement already satisfied: tqdm<5.0.0,>=4.38.0 in /opt/conda/lib/python3.9/site-packages (from spacy) (4.64.0)\n",
      "Collecting pydantic!=1.8,!=1.8.1,<3.0.0,>=1.7.4\n",
      "  Using cached pydantic-2.1.1-py3-none-any.whl (370 kB)\n",
      "Collecting catalogue<2.1.0,>=2.0.6\n",
      "  Using cached catalogue-2.0.9-py3-none-any.whl (17 kB)\n",
      "Collecting thinc<8.2.0,>=8.1.8\n",
      "  Using cached thinc-8.1.11-cp39-cp39-manylinux_2_17_x86_64.manylinux2014_x86_64.whl (926 kB)\n",
      "Collecting wasabi<1.2.0,>=0.9.1\n",
      "  Using cached wasabi-1.1.2-py3-none-any.whl (27 kB)\n",
      "Requirement already satisfied: requests<3.0.0,>=2.13.0 in /opt/conda/lib/python3.9/site-packages (from spacy) (2.27.1)\n",
      "Collecting murmurhash<1.1.0,>=0.28.0\n",
      "  Using cached murmurhash-1.0.9-cp39-cp39-manylinux_2_5_x86_64.manylinux1_x86_64.manylinux_2_17_x86_64.manylinux2014_x86_64.whl (21 kB)\n",
      "Collecting pathy>=0.10.0\n",
      "  Using cached pathy-0.10.2-py3-none-any.whl (48 kB)\n",
      "Collecting typer<0.10.0,>=0.3.0\n",
      "  Using cached typer-0.9.0-py3-none-any.whl (45 kB)\n",
      "Requirement already satisfied: pyparsing!=3.0.5,>=2.0.2 in /opt/conda/lib/python3.9/site-packages (from packaging>=20.0->spacy) (3.0.8)\n",
      "Collecting annotated-types>=0.4.0\n",
      "  Using cached annotated_types-0.5.0-py3-none-any.whl (11 kB)\n",
      "Collecting typing-extensions>=4.6.1\n",
      "  Using cached typing_extensions-4.7.1-py3-none-any.whl (33 kB)\n",
      "Collecting pydantic-core==2.4.0\n",
      "  Using cached pydantic_core-2.4.0-cp39-cp39-manylinux_2_17_x86_64.manylinux2014_x86_64.whl (1.9 MB)\n",
      "Requirement already satisfied: urllib3<1.27,>=1.21.1 in /opt/conda/lib/python3.9/site-packages (from requests<3.0.0,>=2.13.0->spacy) (1.26.9)\n",
      "Requirement already satisfied: charset-normalizer~=2.0.0 in /opt/conda/lib/python3.9/site-packages (from requests<3.0.0,>=2.13.0->spacy) (2.0.12)\n",
      "Requirement already satisfied: idna<4,>=2.5 in /opt/conda/lib/python3.9/site-packages (from requests<3.0.0,>=2.13.0->spacy) (3.3)\n",
      "Requirement already satisfied: certifi>=2017.4.17 in /opt/conda/lib/python3.9/site-packages (from requests<3.0.0,>=2.13.0->spacy) (2022.9.24)\n",
      "Collecting confection<1.0.0,>=0.0.1\n",
      "  Using cached confection-0.1.1-py3-none-any.whl (34 kB)\n",
      "Collecting blis<0.8.0,>=0.7.8\n",
      "  Using cached blis-0.7.10-cp39-cp39-manylinux_2_17_x86_64.manylinux2014_x86_64.whl (10.2 MB)\n",
      "Requirement already satisfied: click<9.0.0,>=7.1.1 in /opt/conda/lib/python3.9/site-packages (from typer<0.10.0,>=0.3.0->spacy) (7.1.2)\n",
      "Requirement already satisfied: MarkupSafe>=2.0 in /opt/conda/lib/python3.9/site-packages (from jinja2->spacy) (2.1.1)\n",
      "Installing collected packages: cymem, wasabi, typing-extensions, spacy-loggers, spacy-legacy, smart-open, murmurhash, langcodes, catalogue, blis, annotated-types, typer, srsly, pydantic-core, preshed, pydantic, pathy, confection, thinc, spacy\n",
      "  Attempting uninstall: typing-extensions\n",
      "    Found existing installation: typing_extensions 4.4.0\n",
      "    Uninstalling typing_extensions-4.4.0:\n",
      "      Successfully uninstalled typing_extensions-4.4.0\n",
      "\u001b[31mERROR: pip's dependency resolver does not currently take into account all the packages that are installed. This behaviour is the source of the following dependency conflicts.\n",
      "black 21.12b0 requires tomli<2.0.0,>=0.2.6, but you have tomli 2.0.1 which is incompatible.\n",
      "arviz 0.13.0 requires scipy>=1.8.0, but you have scipy 1.7.3 which is incompatible.\u001b[0m\u001b[31m\n",
      "\u001b[0mSuccessfully installed annotated-types-0.5.0 blis-0.7.10 catalogue-2.0.9 confection-0.1.1 cymem-2.0.7 langcodes-3.3.0 murmurhash-1.0.9 pathy-0.10.2 preshed-3.0.8 pydantic-2.1.1 pydantic-core-2.4.0 smart-open-6.3.0 spacy-3.6.1 spacy-legacy-3.0.12 spacy-loggers-1.0.4 srsly-2.4.7 thinc-8.1.11 typer-0.9.0 typing-extensions-4.7.1 wasabi-1.1.2\n",
      "Note: you may need to restart the kernel to use updated packages.\n"
     ]
    }
   ],
   "source": [
    "pip install spacy"
   ]
  },
  {
   "cell_type": "code",
   "execution_count": 2,
   "id": "1b11f063",
   "metadata": {},
   "outputs": [
    {
     "name": "stdout",
     "output_type": "stream",
     "text": [
      "Requirement already satisfied: textblob in /opt/conda/lib/python3.9/site-packages (0.15.3)\n",
      "Requirement already satisfied: nltk>=3.1 in /opt/conda/lib/python3.9/site-packages (from textblob) (3.6.7)\n",
      "Requirement already satisfied: joblib in /opt/conda/lib/python3.9/site-packages (from nltk>=3.1->textblob) (1.2.0)\n",
      "Requirement already satisfied: click in /opt/conda/lib/python3.9/site-packages (from nltk>=3.1->textblob) (7.1.2)\n",
      "Requirement already satisfied: tqdm in /opt/conda/lib/python3.9/site-packages (from nltk>=3.1->textblob) (4.64.0)\n",
      "Requirement already satisfied: regex>=2021.8.3 in /opt/conda/lib/python3.9/site-packages (from nltk>=3.1->textblob) (2022.10.31)\n",
      "Note: you may need to restart the kernel to use updated packages.\n"
     ]
    }
   ],
   "source": [
    "pip install textblob"
   ]
  },
  {
   "cell_type": "code",
   "execution_count": 3,
   "id": "8f7dcd8a",
   "metadata": {},
   "outputs": [
    {
     "name": "stdout",
     "output_type": "stream",
     "text": [
      "Collecting vaderSentiment\n",
      "  Using cached vaderSentiment-3.3.2-py2.py3-none-any.whl (125 kB)\n",
      "Requirement already satisfied: requests in /opt/conda/lib/python3.9/site-packages (from vaderSentiment) (2.27.1)\n",
      "Requirement already satisfied: charset-normalizer~=2.0.0 in /opt/conda/lib/python3.9/site-packages (from requests->vaderSentiment) (2.0.12)\n",
      "Requirement already satisfied: idna<4,>=2.5 in /opt/conda/lib/python3.9/site-packages (from requests->vaderSentiment) (3.3)\n",
      "Requirement already satisfied: certifi>=2017.4.17 in /opt/conda/lib/python3.9/site-packages (from requests->vaderSentiment) (2022.9.24)\n",
      "Requirement already satisfied: urllib3<1.27,>=1.21.1 in /opt/conda/lib/python3.9/site-packages (from requests->vaderSentiment) (1.26.9)\n",
      "Installing collected packages: vaderSentiment\n",
      "Successfully installed vaderSentiment-3.3.2\n",
      "Note: you may need to restart the kernel to use updated packages.\n"
     ]
    }
   ],
   "source": [
    "pip install vaderSentiment"
   ]
  },
  {
   "cell_type": "code",
   "execution_count": 4,
   "id": "b73295e1",
   "metadata": {},
   "outputs": [
    {
     "name": "stdout",
     "output_type": "stream",
     "text": [
      "Collecting pytextrank\n",
      "  Using cached pytextrank-3.2.5-py3-none-any.whl (30 kB)\n",
      "Requirement already satisfied: scipy>=1.7 in /opt/conda/lib/python3.9/site-packages (from pytextrank) (1.7.3)\n",
      "Requirement already satisfied: graphviz>=0.13 in /opt/conda/lib/python3.9/site-packages (from pytextrank) (0.20)\n",
      "Requirement already satisfied: pygments>=2.7.4 in /opt/conda/lib/python3.9/site-packages (from pytextrank) (2.12.0)\n",
      "Collecting icecream>=2.1\n",
      "  Using cached icecream-2.1.3-py2.py3-none-any.whl (8.4 kB)\n",
      "Requirement already satisfied: networkx[default]>=2.6 in /opt/conda/lib/python3.9/site-packages (from pytextrank) (2.8.7)\n",
      "Requirement already satisfied: spacy>=3.0 in /opt/conda/lib/python3.9/site-packages (from pytextrank) (3.6.1)\n",
      "Requirement already satisfied: asttokens>=2.0.1 in /opt/conda/lib/python3.9/site-packages (from icecream>=2.1->pytextrank) (2.0.5)\n",
      "Requirement already satisfied: executing>=0.3.1 in /opt/conda/lib/python3.9/site-packages (from icecream>=2.1->pytextrank) (0.8.3)\n",
      "Requirement already satisfied: colorama>=0.3.9 in /opt/conda/lib/python3.9/site-packages (from icecream>=2.1->pytextrank) (0.4.4)\n",
      "Collecting scipy>=1.7\n",
      "  Using cached scipy-1.11.1-cp39-cp39-manylinux_2_17_x86_64.manylinux2014_x86_64.whl (36.5 MB)\n",
      "Requirement already satisfied: pandas>=1.3 in /opt/conda/lib/python3.9/site-packages (from networkx[default]>=2.6->pytextrank) (1.4.2)\n",
      "Requirement already satisfied: matplotlib>=3.4 in /opt/conda/lib/python3.9/site-packages (from networkx[default]>=2.6->pytextrank) (3.5.2)\n",
      "Requirement already satisfied: numpy>=1.19 in /opt/conda/lib/python3.9/site-packages (from networkx[default]>=2.6->pytextrank) (1.21.6)\n",
      "Requirement already satisfied: typer<0.10.0,>=0.3.0 in /opt/conda/lib/python3.9/site-packages (from spacy>=3.0->pytextrank) (0.9.0)\n",
      "Requirement already satisfied: catalogue<2.1.0,>=2.0.6 in /opt/conda/lib/python3.9/site-packages (from spacy>=3.0->pytextrank) (2.0.9)\n",
      "Requirement already satisfied: langcodes<4.0.0,>=3.2.0 in /opt/conda/lib/python3.9/site-packages (from spacy>=3.0->pytextrank) (3.3.0)\n",
      "Requirement already satisfied: murmurhash<1.1.0,>=0.28.0 in /opt/conda/lib/python3.9/site-packages (from spacy>=3.0->pytextrank) (1.0.9)\n",
      "Requirement already satisfied: thinc<8.2.0,>=8.1.8 in /opt/conda/lib/python3.9/site-packages (from spacy>=3.0->pytextrank) (8.1.11)\n",
      "Requirement already satisfied: pathy>=0.10.0 in /opt/conda/lib/python3.9/site-packages (from spacy>=3.0->pytextrank) (0.10.2)\n",
      "Requirement already satisfied: requests<3.0.0,>=2.13.0 in /opt/conda/lib/python3.9/site-packages (from spacy>=3.0->pytextrank) (2.27.1)\n",
      "Requirement already satisfied: jinja2 in /opt/conda/lib/python3.9/site-packages (from spacy>=3.0->pytextrank) (3.1.1)\n",
      "Requirement already satisfied: smart-open<7.0.0,>=5.2.1 in /opt/conda/lib/python3.9/site-packages (from spacy>=3.0->pytextrank) (6.3.0)\n",
      "Requirement already satisfied: preshed<3.1.0,>=3.0.2 in /opt/conda/lib/python3.9/site-packages (from spacy>=3.0->pytextrank) (3.0.8)\n",
      "Requirement already satisfied: wasabi<1.2.0,>=0.9.1 in /opt/conda/lib/python3.9/site-packages (from spacy>=3.0->pytextrank) (1.1.2)\n",
      "Requirement already satisfied: srsly<3.0.0,>=2.4.3 in /opt/conda/lib/python3.9/site-packages (from spacy>=3.0->pytextrank) (2.4.7)\n",
      "Requirement already satisfied: tqdm<5.0.0,>=4.38.0 in /opt/conda/lib/python3.9/site-packages (from spacy>=3.0->pytextrank) (4.64.0)\n",
      "Requirement already satisfied: spacy-loggers<2.0.0,>=1.0.0 in /opt/conda/lib/python3.9/site-packages (from spacy>=3.0->pytextrank) (1.0.4)\n",
      "Requirement already satisfied: pydantic!=1.8,!=1.8.1,<3.0.0,>=1.7.4 in /opt/conda/lib/python3.9/site-packages (from spacy>=3.0->pytextrank) (2.1.1)\n",
      "Requirement already satisfied: spacy-legacy<3.1.0,>=3.0.11 in /opt/conda/lib/python3.9/site-packages (from spacy>=3.0->pytextrank) (3.0.12)\n",
      "Requirement already satisfied: packaging>=20.0 in /opt/conda/lib/python3.9/site-packages (from spacy>=3.0->pytextrank) (21.3)\n",
      "Requirement already satisfied: setuptools in /opt/conda/lib/python3.9/site-packages (from spacy>=3.0->pytextrank) (62.1.0)\n",
      "Requirement already satisfied: cymem<2.1.0,>=2.0.2 in /opt/conda/lib/python3.9/site-packages (from spacy>=3.0->pytextrank) (2.0.7)\n",
      "Requirement already satisfied: six in /opt/conda/lib/python3.9/site-packages (from asttokens>=2.0.1->icecream>=2.1->pytextrank) (1.16.0)\n",
      "Requirement already satisfied: pyparsing>=2.2.1 in /opt/conda/lib/python3.9/site-packages (from matplotlib>=3.4->networkx[default]>=2.6->pytextrank) (3.0.8)\n",
      "Requirement already satisfied: pillow>=6.2.0 in /opt/conda/lib/python3.9/site-packages (from matplotlib>=3.4->networkx[default]>=2.6->pytextrank) (9.1.1)\n",
      "Requirement already satisfied: python-dateutil>=2.7 in /opt/conda/lib/python3.9/site-packages (from matplotlib>=3.4->networkx[default]>=2.6->pytextrank) (2.8.2)\n",
      "Requirement already satisfied: kiwisolver>=1.0.1 in /opt/conda/lib/python3.9/site-packages (from matplotlib>=3.4->networkx[default]>=2.6->pytextrank) (1.4.4)\n",
      "Requirement already satisfied: cycler>=0.10 in /opt/conda/lib/python3.9/site-packages (from matplotlib>=3.4->networkx[default]>=2.6->pytextrank) (0.11.0)\n",
      "Requirement already satisfied: fonttools>=4.22.0 in /opt/conda/lib/python3.9/site-packages (from matplotlib>=3.4->networkx[default]>=2.6->pytextrank) (4.38.0)\n",
      "Requirement already satisfied: pytz>=2020.1 in /opt/conda/lib/python3.9/site-packages (from pandas>=1.3->networkx[default]>=2.6->pytextrank) (2022.1)\n",
      "Requirement already satisfied: typing-extensions>=4.6.1 in /opt/conda/lib/python3.9/site-packages (from pydantic!=1.8,!=1.8.1,<3.0.0,>=1.7.4->spacy>=3.0->pytextrank) (4.7.1)\n",
      "Requirement already satisfied: pydantic-core==2.4.0 in /opt/conda/lib/python3.9/site-packages (from pydantic!=1.8,!=1.8.1,<3.0.0,>=1.7.4->spacy>=3.0->pytextrank) (2.4.0)\n",
      "Requirement already satisfied: annotated-types>=0.4.0 in /opt/conda/lib/python3.9/site-packages (from pydantic!=1.8,!=1.8.1,<3.0.0,>=1.7.4->spacy>=3.0->pytextrank) (0.5.0)\n",
      "Requirement already satisfied: urllib3<1.27,>=1.21.1 in /opt/conda/lib/python3.9/site-packages (from requests<3.0.0,>=2.13.0->spacy>=3.0->pytextrank) (1.26.9)\n",
      "Requirement already satisfied: idna<4,>=2.5 in /opt/conda/lib/python3.9/site-packages (from requests<3.0.0,>=2.13.0->spacy>=3.0->pytextrank) (3.3)\n",
      "Requirement already satisfied: certifi>=2017.4.17 in /opt/conda/lib/python3.9/site-packages (from requests<3.0.0,>=2.13.0->spacy>=3.0->pytextrank) (2022.9.24)\n",
      "Requirement already satisfied: charset-normalizer~=2.0.0 in /opt/conda/lib/python3.9/site-packages (from requests<3.0.0,>=2.13.0->spacy>=3.0->pytextrank) (2.0.12)\n",
      "Requirement already satisfied: blis<0.8.0,>=0.7.8 in /opt/conda/lib/python3.9/site-packages (from thinc<8.2.0,>=8.1.8->spacy>=3.0->pytextrank) (0.7.10)\n",
      "Requirement already satisfied: confection<1.0.0,>=0.0.1 in /opt/conda/lib/python3.9/site-packages (from thinc<8.2.0,>=8.1.8->spacy>=3.0->pytextrank) (0.1.1)\n",
      "Requirement already satisfied: click<9.0.0,>=7.1.1 in /opt/conda/lib/python3.9/site-packages (from typer<0.10.0,>=0.3.0->spacy>=3.0->pytextrank) (7.1.2)\n",
      "Requirement already satisfied: MarkupSafe>=2.0 in /opt/conda/lib/python3.9/site-packages (from jinja2->spacy>=3.0->pytextrank) (2.1.1)\n",
      "Installing collected packages: scipy, icecream, pytextrank\n",
      "  Attempting uninstall: scipy\n",
      "    Found existing installation: scipy 1.7.3\n",
      "    Uninstalling scipy-1.7.3:\n",
      "      Successfully uninstalled scipy-1.7.3\n",
      "\u001b[31mERROR: pip's dependency resolver does not currently take into account all the packages that are installed. This behaviour is the source of the following dependency conflicts.\n",
      "pointpats 2.2.0 requires opencv-contrib-python>=4.2.0, which is not installed.\n",
      "landlab 2.4.1 requires bmi-topography, which is not installed.\n",
      "pymc3 3.11.5 requires scipy<1.8.0,>=1.7.3, but you have scipy 1.11.1 which is incompatible.\u001b[0m\u001b[31m\n",
      "\u001b[0mSuccessfully installed icecream-2.1.3 pytextrank-3.2.5 scipy-1.11.1\n",
      "Note: you may need to restart the kernel to use updated packages.\n"
     ]
    }
   ],
   "source": [
    "pip install pytextrank"
   ]
  },
  {
   "cell_type": "code",
   "execution_count": 5,
   "id": "77af6a23",
   "metadata": {},
   "outputs": [
    {
     "name": "stdout",
     "output_type": "stream",
     "text": [
      "/opt/conda/lib/python3.9/site-packages/requests/__init__.py:102: RequestsDependencyWarning: urllib3 (1.26.9) or chardet (5.0.0)/charset_normalizer (2.0.12) doesn't match a supported version!\n",
      "  warnings.warn(\"urllib3 ({}) or chardet ({})/charset_normalizer ({}) doesn't match a supported \"\n",
      "Collecting en-core-web-sm==3.6.0\n",
      "  Downloading https://github.com/explosion/spacy-models/releases/download/en_core_web_sm-3.6.0/en_core_web_sm-3.6.0-py3-none-any.whl (12.8 MB)\n",
      "\u001b[2K     \u001b[90m━━━━━━━━━━━━━━━━━━━━━━━━━━━━━━━━━━━━━━━\u001b[0m \u001b[32m12.8/12.8 MB\u001b[0m \u001b[31m101.1 MB/s\u001b[0m eta \u001b[36m0:00:00\u001b[0m00:01\u001b[0m00:01\u001b[0m\n",
      "\u001b[?25hRequirement already satisfied: spacy<3.7.0,>=3.6.0 in /opt/conda/lib/python3.9/site-packages (from en-core-web-sm==3.6.0) (3.6.1)\n",
      "Requirement already satisfied: wasabi<1.2.0,>=0.9.1 in /opt/conda/lib/python3.9/site-packages (from spacy<3.7.0,>=3.6.0->en-core-web-sm==3.6.0) (1.1.2)\n",
      "Requirement already satisfied: srsly<3.0.0,>=2.4.3 in /opt/conda/lib/python3.9/site-packages (from spacy<3.7.0,>=3.6.0->en-core-web-sm==3.6.0) (2.4.7)\n",
      "Requirement already satisfied: requests<3.0.0,>=2.13.0 in /opt/conda/lib/python3.9/site-packages (from spacy<3.7.0,>=3.6.0->en-core-web-sm==3.6.0) (2.27.1)\n",
      "Requirement already satisfied: pydantic!=1.8,!=1.8.1,<3.0.0,>=1.7.4 in /opt/conda/lib/python3.9/site-packages (from spacy<3.7.0,>=3.6.0->en-core-web-sm==3.6.0) (2.1.1)\n",
      "Requirement already satisfied: thinc<8.2.0,>=8.1.8 in /opt/conda/lib/python3.9/site-packages (from spacy<3.7.0,>=3.6.0->en-core-web-sm==3.6.0) (8.1.11)\n",
      "Requirement already satisfied: pathy>=0.10.0 in /opt/conda/lib/python3.9/site-packages (from spacy<3.7.0,>=3.6.0->en-core-web-sm==3.6.0) (0.10.2)\n",
      "Requirement already satisfied: cymem<2.1.0,>=2.0.2 in /opt/conda/lib/python3.9/site-packages (from spacy<3.7.0,>=3.6.0->en-core-web-sm==3.6.0) (2.0.7)\n",
      "Requirement already satisfied: preshed<3.1.0,>=3.0.2 in /opt/conda/lib/python3.9/site-packages (from spacy<3.7.0,>=3.6.0->en-core-web-sm==3.6.0) (3.0.8)\n",
      "Requirement already satisfied: typer<0.10.0,>=0.3.0 in /opt/conda/lib/python3.9/site-packages (from spacy<3.7.0,>=3.6.0->en-core-web-sm==3.6.0) (0.9.0)\n",
      "Requirement already satisfied: spacy-loggers<2.0.0,>=1.0.0 in /opt/conda/lib/python3.9/site-packages (from spacy<3.7.0,>=3.6.0->en-core-web-sm==3.6.0) (1.0.4)\n",
      "Requirement already satisfied: setuptools in /opt/conda/lib/python3.9/site-packages (from spacy<3.7.0,>=3.6.0->en-core-web-sm==3.6.0) (62.1.0)\n",
      "Requirement already satisfied: packaging>=20.0 in /opt/conda/lib/python3.9/site-packages (from spacy<3.7.0,>=3.6.0->en-core-web-sm==3.6.0) (21.3)\n",
      "Requirement already satisfied: smart-open<7.0.0,>=5.2.1 in /opt/conda/lib/python3.9/site-packages (from spacy<3.7.0,>=3.6.0->en-core-web-sm==3.6.0) (6.3.0)\n",
      "Requirement already satisfied: catalogue<2.1.0,>=2.0.6 in /opt/conda/lib/python3.9/site-packages (from spacy<3.7.0,>=3.6.0->en-core-web-sm==3.6.0) (2.0.9)\n",
      "Requirement already satisfied: spacy-legacy<3.1.0,>=3.0.11 in /opt/conda/lib/python3.9/site-packages (from spacy<3.7.0,>=3.6.0->en-core-web-sm==3.6.0) (3.0.12)\n",
      "Requirement already satisfied: murmurhash<1.1.0,>=0.28.0 in /opt/conda/lib/python3.9/site-packages (from spacy<3.7.0,>=3.6.0->en-core-web-sm==3.6.0) (1.0.9)\n",
      "Requirement already satisfied: jinja2 in /opt/conda/lib/python3.9/site-packages (from spacy<3.7.0,>=3.6.0->en-core-web-sm==3.6.0) (3.1.1)\n",
      "Requirement already satisfied: tqdm<5.0.0,>=4.38.0 in /opt/conda/lib/python3.9/site-packages (from spacy<3.7.0,>=3.6.0->en-core-web-sm==3.6.0) (4.64.0)\n",
      "Requirement already satisfied: numpy>=1.15.0 in /opt/conda/lib/python3.9/site-packages (from spacy<3.7.0,>=3.6.0->en-core-web-sm==3.6.0) (1.21.6)\n",
      "Requirement already satisfied: langcodes<4.0.0,>=3.2.0 in /opt/conda/lib/python3.9/site-packages (from spacy<3.7.0,>=3.6.0->en-core-web-sm==3.6.0) (3.3.0)\n",
      "Requirement already satisfied: pyparsing!=3.0.5,>=2.0.2 in /opt/conda/lib/python3.9/site-packages (from packaging>=20.0->spacy<3.7.0,>=3.6.0->en-core-web-sm==3.6.0) (3.0.8)\n",
      "Requirement already satisfied: typing-extensions>=4.6.1 in /opt/conda/lib/python3.9/site-packages (from pydantic!=1.8,!=1.8.1,<3.0.0,>=1.7.4->spacy<3.7.0,>=3.6.0->en-core-web-sm==3.6.0) (4.7.1)\n",
      "Requirement already satisfied: pydantic-core==2.4.0 in /opt/conda/lib/python3.9/site-packages (from pydantic!=1.8,!=1.8.1,<3.0.0,>=1.7.4->spacy<3.7.0,>=3.6.0->en-core-web-sm==3.6.0) (2.4.0)\n",
      "Requirement already satisfied: annotated-types>=0.4.0 in /opt/conda/lib/python3.9/site-packages (from pydantic!=1.8,!=1.8.1,<3.0.0,>=1.7.4->spacy<3.7.0,>=3.6.0->en-core-web-sm==3.6.0) (0.5.0)\n",
      "Requirement already satisfied: urllib3<1.27,>=1.21.1 in /opt/conda/lib/python3.9/site-packages (from requests<3.0.0,>=2.13.0->spacy<3.7.0,>=3.6.0->en-core-web-sm==3.6.0) (1.26.9)\n",
      "Requirement already satisfied: certifi>=2017.4.17 in /opt/conda/lib/python3.9/site-packages (from requests<3.0.0,>=2.13.0->spacy<3.7.0,>=3.6.0->en-core-web-sm==3.6.0) (2022.9.24)\n",
      "Requirement already satisfied: charset-normalizer~=2.0.0 in /opt/conda/lib/python3.9/site-packages (from requests<3.0.0,>=2.13.0->spacy<3.7.0,>=3.6.0->en-core-web-sm==3.6.0) (2.0.12)\n",
      "Requirement already satisfied: idna<4,>=2.5 in /opt/conda/lib/python3.9/site-packages (from requests<3.0.0,>=2.13.0->spacy<3.7.0,>=3.6.0->en-core-web-sm==3.6.0) (3.3)\n",
      "Requirement already satisfied: confection<1.0.0,>=0.0.1 in /opt/conda/lib/python3.9/site-packages (from thinc<8.2.0,>=8.1.8->spacy<3.7.0,>=3.6.0->en-core-web-sm==3.6.0) (0.1.1)\n",
      "Requirement already satisfied: blis<0.8.0,>=0.7.8 in /opt/conda/lib/python3.9/site-packages (from thinc<8.2.0,>=8.1.8->spacy<3.7.0,>=3.6.0->en-core-web-sm==3.6.0) (0.7.10)\n",
      "Requirement already satisfied: click<9.0.0,>=7.1.1 in /opt/conda/lib/python3.9/site-packages (from typer<0.10.0,>=0.3.0->spacy<3.7.0,>=3.6.0->en-core-web-sm==3.6.0) (7.1.2)\n",
      "Requirement already satisfied: MarkupSafe>=2.0 in /opt/conda/lib/python3.9/site-packages (from jinja2->spacy<3.7.0,>=3.6.0->en-core-web-sm==3.6.0) (2.1.1)\n",
      "Installing collected packages: en-core-web-sm\n",
      "Successfully installed en-core-web-sm-3.6.0\n",
      "\u001b[38;5;2m✔ Download and installation successful\u001b[0m\n",
      "You can now load the package via spacy.load('en_core_web_sm')\n"
     ]
    }
   ],
   "source": [
    "!python -m spacy download en_core_web_sm"
   ]
  },
  {
   "cell_type": "code",
   "execution_count": 6,
   "id": "d13f036d",
   "metadata": {},
   "outputs": [
    {
     "name": "stderr",
     "output_type": "stream",
     "text": [
      "/opt/conda/lib/python3.9/site-packages/requests/__init__.py:102: RequestsDependencyWarning: urllib3 (1.26.9) or chardet (5.0.0)/charset_normalizer (2.0.12) doesn't match a supported version!\n",
      "  warnings.warn(\"urllib3 ({}) or chardet ({})/charset_normalizer ({}) doesn't match a supported \"\n"
     ]
    },
    {
     "name": "stdout",
     "output_type": "stream",
     "text": [
      "mixed types\n",
      "0.18224422086397363 1\n",
      "[mixed types]\n",
      "systems\n",
      "0.177894013810666 3\n",
      "[systems, systems, systems]\n",
      "minimal generating sets\n",
      "0.15012796482367466 1\n",
      "[minimal generating sets]\n",
      "nonstrict inequations\n",
      "0.14619431119413756 1\n",
      "[nonstrict inequations]\n",
      "strict inequations\n",
      "0.13846949336886627 1\n",
      "[strict inequations]\n",
      "linear Diophantine equations\n",
      "0.11980429601355375 1\n",
      "[linear Diophantine equations]\n",
      "natural numbers\n",
      "0.11382139867518232 1\n",
      "[natural numbers]\n",
      "solutions\n",
      "0.10728967890810522 3\n",
      "[solutions, solutions, solutions]\n",
      "linear constraints\n",
      "0.10596399779473555 1\n",
      "[linear constraints]\n",
      "all the considered types systems\n",
      "0.10307674738889895 1\n",
      "[all the considered types systems]\n",
      "linear\n",
      "0.08554976626303484 1\n",
      "[linear]\n",
      "a system\n",
      "0.0821657254086488 1\n",
      "[a system]\n",
      "a minimal set\n",
      "0.07936702627887375 1\n",
      "[a minimal set]\n",
      "algorithms\n",
      "0.07767154470857095 1\n",
      "[algorithms]\n",
      "all types\n",
      "0.07537595845740168 1\n",
      "[all types]\n",
      "Diophantine\n",
      "0.07289137414374329 1\n",
      "[Diophantine]\n",
      "construction\n",
      "0.0698386527264134 1\n",
      "[construction]\n",
      "a minimal\n",
      "supporting set\n",
      "0.06515343963918843 1\n",
      "[a minimal\n",
      "supporting set]\n",
      "the set\n",
      "0.05788665445044401 1\n",
      "[the set]\n",
      "components\n",
      "0.05325049325497536 1\n",
      "[components]\n",
      "Compatibility\n",
      "0.04700606024274989 1\n",
      "[Compatibility]\n",
      "compatibility\n",
      "0.04700606024274989 1\n",
      "[compatibility]\n",
      "the corresponding algorithms\n",
      "0.0453939383534866 1\n",
      "[the corresponding algorithms]\n",
      "Criteria\n",
      "0.04149387378785165 2\n",
      "[Criteria, Criteria]\n",
      "These criteria\n",
      "0.019165199360909206 1\n",
      "[These criteria]\n"
     ]
    }
   ],
   "source": [
    "import spacy\n",
    "import pytextrank\n",
    "\n",
    "# example text\n",
    "text = \"\"\"Compatibility of systems of linear constraints over the set of natural numbers.\n",
    "Criteria of compatibility of a system of linear Diophantine equations, strict inequations,\n",
    "and nonstrict inequations are considered. Upper bounds for components of a minimal set of\n",
    "solutions and algorithms of construction of minimal generating sets of solutions for all types\n",
    "of systems are given. These criteria and the corresponding algorithms for constructing a minimal\n",
    "supporting set of solutions can be used in solving all the considered types systems and systems of mixed types.\"\"\"\n",
    "\n",
    "# load a spaCy model, depending on language, scale, etc.\n",
    "nlp = spacy.load(\"en_core_web_sm\")\n",
    "# add PyTextRank to the spaCy pipeline\n",
    "nlp.add_pipe(\"textrank\")\n",
    "\n",
    "doc = nlp(text)\n",
    "# examine the top-ranked phrases in the document\n",
    "for phrase in doc._.phrases:\n",
    "    print(phrase.text)\n",
    "    print(phrase.rank, phrase.count)\n",
    "    print(phrase.chunks)"
   ]
  },
  {
   "cell_type": "code",
   "execution_count": 7,
   "id": "479a93f8",
   "metadata": {},
   "outputs": [
    {
     "name": "stdout",
     "output_type": "stream",
     "text": [
      "the food food nsubj was\n",
      "the service service nsubj was\n"
     ]
    }
   ],
   "source": [
    "import spacy\n",
    "\n",
    "# Load the spaCy model for English language\n",
    "nlp = spacy.load(\"en_core_web_sm\")\n",
    "\n",
    "# Input text to analyze\n",
    "text = \"the food was decent, but the service was so fucking slow\"\n",
    "\n",
    "# Process the input text using spaCy\n",
    "doc = nlp(text)\n",
    "\n",
    "# Iterate through noun chunks in the processed document\n",
    "for chunk in doc.noun_chunks:\n",
    "    # Print the text of the noun chunk, the text of the root token, the dependency label of the root token,\n",
    "    # and the text of the head token of the root token\n",
    "    print(chunk.text, chunk.root.text, chunk.root.dep_, chunk.root.head.text)\n"
   ]
  },
  {
   "cell_type": "code",
   "execution_count": 9,
   "id": "540a046e",
   "metadata": {},
   "outputs": [
    {
     "name": "stdout",
     "output_type": "stream",
     "text": [
      "Phrase: the\n",
      "Sentiment Score: 0.0\n",
      "\n",
      "Phrase: food was decent , but the\n",
      "Sentiment Score: 0.0\n",
      "\n",
      "Phrase: service was so fucking slow\n",
      "Sentiment Score: 0.0\n",
      "\n"
     ]
    }
   ],
   "source": [
    "import spacy\n",
    "from vaderSentiment.vaderSentiment import SentimentIntensityAnalyzer\n",
    "\n",
    "# Load the spaCy model for English language\n",
    "nlp = spacy.load(\"en_core_web_sm\")\n",
    "\n",
    "# Initialize the VADER SentimentIntensityAnalyzer\n",
    "analyzer = SentimentIntensityAnalyzer()\n",
    "\n",
    "# Input text to analyze\n",
    "text = \"the food was decent, but the service was so fucking slow\"\n",
    "\n",
    "# Process the input text using spaCy\n",
    "doc = nlp(text)\n",
    "\n",
    "# List to store extracted phrases and their sentiment scores\n",
    "phrases = []\n",
    "current_phrase = []\n",
    "\n",
    "# Iterate through tokens in the processed document\n",
    "for token in doc:\n",
    "    # Check if the token's dependency label is \"nsubj\" (nominal subject)\n",
    "    if token.dep_ == \"nsubj\":\n",
    "        # If there's an ongoing phrase, process it\n",
    "        if current_phrase:\n",
    "            # Combine the current phrase tokens into text\n",
    "            phrase_text = \" \".join(current_phrase)\n",
    "            # Calculate sentiment score for the phrase using VADER\n",
    "            sentiment_score = analyzer.polarity_scores(phrase_text)[\"compound\"]\n",
    "            # Append the phrase and its sentiment score to the list\n",
    "            phrases.append((phrase_text, sentiment_score))\n",
    "            # Reset the current phrase for the next iteration\n",
    "            current_phrase = []\n",
    "    # Append the token's text to the current phrase\n",
    "    current_phrase.append(token.text)\n",
    "\n",
    "# Append the last phrase (after the loop ends)\n",
    "if current_phrase:\n",
    "    phrase_text = \" \".join(current_phrase)\n",
    "    sentiment_score = analyzer.polarity_scores(phrase_text)[\"compound\"]\n",
    "    phrases.append((phrase_text, sentiment_score))\n",
    "\n",
    "# Print the extracted phrases and their sentiment scores\n",
    "for phrase, score in phrases:\n",
    "    print(\"Phrase:\", phrase)\n",
    "    print(\"Sentiment Score:\", score)\n",
    "    print()\n"
   ]
  },
  {
   "cell_type": "code",
   "execution_count": 11,
   "id": "acec76e5",
   "metadata": {},
   "outputs": [
    {
     "name": "stdout",
     "output_type": "stream",
     "text": [
      "Phrase: Do nt really care .\n",
      "Sentiment Score: 0.2\n",
      "\n",
      "Phrase: Its gon na happen no matter what\n",
      "Sentiment Score: 0.0\n",
      "\n",
      "Phrase: we do . Go ahead be a vegan and try to stop cow farts . Not gon na matter .  \n",
      "Sentiment Score: -0.13333333333333333\n",
      "\n",
      "Phrase: I care more about jobs and america first than fking polar bears .\n",
      "Sentiment Score: 0.2222222222222222\n",
      "\n",
      "Phrase: We have pictures of them . Good enough\n",
      "Sentiment Score: 0.35\n",
      "\n"
     ]
    }
   ],
   "source": [
    "import spacy\n",
    "from textblob import TextBlob\n",
    "\n",
    "# Load the spaCy model for English language\n",
    "nlp = spacy.load(\"en_core_web_sm\")\n",
    "\n",
    "# Input text to analyze\n",
    "text = \"Dont really care. Its gonna happen no matter what we do. Go ahead be a vegan and try to stop cow farts. Not gonna matter. I care more about jobs and america first than fking polar bears. We have pictures of them. Good enough\"\n",
    "\n",
    "# Process the input text using spaCy\n",
    "doc = nlp(text)\n",
    "\n",
    "# List to store extracted phrases and their sentiment scores\n",
    "phrases = []\n",
    "current_phrase = []\n",
    "\n",
    "# Iterate through tokens in the processed document\n",
    "for token in doc:\n",
    "    # Check if the token's dependency label is \"nsubj\" (nominal subject)\n",
    "    if token.dep_ == \"nsubj\":\n",
    "        # If there's an ongoing phrase, process it\n",
    "        if current_phrase:\n",
    "            # Combine the current phrase tokens into text\n",
    "            phrase_text = \" \".join(current_phrase)\n",
    "            # Calculate sentiment polarity for the phrase using TextBlob\n",
    "            sentiment = TextBlob(phrase_text).sentiment.polarity\n",
    "            # Append the phrase and its sentiment polarity to the list\n",
    "            phrases.append((phrase_text, sentiment))\n",
    "            # Reset the current phrase for the next iteration\n",
    "            current_phrase = []\n",
    "    # Append the token's text to the current phrase\n",
    "    current_phrase.append(token.text)\n",
    "\n",
    "# Append the last phrase (after the loop ends)\n",
    "if current_phrase:\n",
    "    phrase_text = \" \".join(current_phrase)\n",
    "    sentiment = TextBlob(phrase_text).sentiment.polarity\n",
    "    phrases.append((phrase_text, sentiment))\n",
    "\n",
    "# Print the extracted phrases and their sentiment scores\n",
    "for phrase, score in phrases:\n",
    "    print(\"Phrase:\", phrase)\n",
    "    print(\"Sentiment Score:\", score)\n",
    "    print()\n"
   ]
  },
  {
   "cell_type": "code",
   "execution_count": 182,
   "id": "8531742f",
   "metadata": {},
   "outputs": [
    {
     "data": {
      "text/html": [
       "<div>\n",
       "<style scoped>\n",
       "    .dataframe tbody tr th:only-of-type {\n",
       "        vertical-align: middle;\n",
       "    }\n",
       "\n",
       "    .dataframe tbody tr th {\n",
       "        vertical-align: top;\n",
       "    }\n",
       "\n",
       "    .dataframe thead th {\n",
       "        text-align: right;\n",
       "    }\n",
       "</style>\n",
       "<table border=\"1\" class=\"dataframe\">\n",
       "  <thead>\n",
       "    <tr style=\"text-align: right;\">\n",
       "      <th></th>\n",
       "      <th>Source</th>\n",
       "      <th>Target</th>\n",
       "      <th>author_parent</th>\n",
       "      <th>score</th>\n",
       "      <th>body</th>\n",
       "      <th>post_title</th>\n",
       "      <th>post_content</th>\n",
       "      <th>subreddit</th>\n",
       "      <th>Topic</th>\n",
       "    </tr>\n",
       "  </thead>\n",
       "  <tbody>\n",
       "    <tr>\n",
       "      <th>0</th>\n",
       "      <td>RemindMeBot</td>\n",
       "      <td>jicfbs3</td>\n",
       "      <td>beakbea</td>\n",
       "      <td>1</td>\n",
       "      <td>I will be messaging you in 10 years on [**2033...</td>\n",
       "      <td>Climate change: Do you see more people moving ...</td>\n",
       "      <td>If climate change makes life increasingly diff...</td>\n",
       "      <td>canadahousing</td>\n",
       "      <td>going, man, thank, probably, food, nuclear, re...</td>\n",
       "    </tr>\n",
       "    <tr>\n",
       "      <th>1</th>\n",
       "      <td>naliron</td>\n",
       "      <td>j9zp6o7</td>\n",
       "      <td>bigd710</td>\n",
       "      <td>18</td>\n",
       "      <td>It hasn't been sustainable since we started wi...</td>\n",
       "      <td>The American climate migration has already beg...</td>\n",
       "      <td>NaN</td>\n",
       "      <td>collapse</td>\n",
       "      <td>like, cold, say, area, just, thing, world, agr...</td>\n",
       "    </tr>\n",
       "    <tr>\n",
       "      <th>2</th>\n",
       "      <td>baconraygun</td>\n",
       "      <td>j9zp6o7</td>\n",
       "      <td>bigd710</td>\n",
       "      <td>2</td>\n",
       "      <td>Until it's 99% of us.</td>\n",
       "      <td>The American climate migration has already beg...</td>\n",
       "      <td>NaN</td>\n",
       "      <td>collapse</td>\n",
       "      <td>won, com, change, like, think, just, https, do...</td>\n",
       "    </tr>\n",
       "    <tr>\n",
       "      <th>3</th>\n",
       "      <td>baconraygun</td>\n",
       "      <td>ja0bebw</td>\n",
       "      <td>An-Angel-Named-Billy</td>\n",
       "      <td>6</td>\n",
       "      <td>It's gonna get real weird in the future when \"...</td>\n",
       "      <td>The American climate migration has already beg...</td>\n",
       "      <td>NaN</td>\n",
       "      <td>collapse</td>\n",
       "      <td>real, people, yes, love, right, wait, just, ye...</td>\n",
       "    </tr>\n",
       "    <tr>\n",
       "      <th>4</th>\n",
       "      <td>baconraygun</td>\n",
       "      <td>j9zud84</td>\n",
       "      <td>Reservegrowthrulz</td>\n",
       "      <td>2</td>\n",
       "      <td>The cost to rebuild and the infrastructure and...</td>\n",
       "      <td>The American climate migration has already beg...</td>\n",
       "      <td>NaN</td>\n",
       "      <td>collapse</td>\n",
       "      <td>getting, pretty, don, need, time, way, climate...</td>\n",
       "    </tr>\n",
       "  </tbody>\n",
       "</table>\n",
       "</div>"
      ],
      "text/plain": [
       "        Source   Target         author_parent  score  \\\n",
       "0  RemindMeBot  jicfbs3               beakbea      1   \n",
       "1      naliron  j9zp6o7               bigd710     18   \n",
       "2  baconraygun  j9zp6o7               bigd710      2   \n",
       "3  baconraygun  ja0bebw  An-Angel-Named-Billy      6   \n",
       "4  baconraygun  j9zud84     Reservegrowthrulz      2   \n",
       "\n",
       "                                                body  \\\n",
       "0  I will be messaging you in 10 years on [**2033...   \n",
       "1  It hasn't been sustainable since we started wi...   \n",
       "2                              Until it's 99% of us.   \n",
       "3  It's gonna get real weird in the future when \"...   \n",
       "4  The cost to rebuild and the infrastructure and...   \n",
       "\n",
       "                                          post_title  \\\n",
       "0  Climate change: Do you see more people moving ...   \n",
       "1  The American climate migration has already beg...   \n",
       "2  The American climate migration has already beg...   \n",
       "3  The American climate migration has already beg...   \n",
       "4  The American climate migration has already beg...   \n",
       "\n",
       "                                        post_content      subreddit  \\\n",
       "0  If climate change makes life increasingly diff...  canadahousing   \n",
       "1                                                NaN       collapse   \n",
       "2                                                NaN       collapse   \n",
       "3                                                NaN       collapse   \n",
       "4                                                NaN       collapse   \n",
       "\n",
       "                                               Topic  \n",
       "0  going, man, thank, probably, food, nuclear, re...  \n",
       "1  like, cold, say, area, just, thing, world, agr...  \n",
       "2  won, com, change, like, think, just, https, do...  \n",
       "3  real, people, yes, love, right, wait, just, ye...  \n",
       "4  getting, pretty, don, need, time, way, climate...  "
      ]
     },
     "execution_count": 182,
     "metadata": {},
     "output_type": "execute_result"
    }
   ],
   "source": [
    "import pandas as pd\n",
    "\n",
    "df = pd.read_csv('community a.csv')"
   ]
  },
  {
   "cell_type": "code",
   "execution_count": 183,
   "id": "182dc451",
   "metadata": {},
   "outputs": [
    {
     "data": {
      "text/html": [
       "<div>\n",
       "<style scoped>\n",
       "    .dataframe tbody tr th:only-of-type {\n",
       "        vertical-align: middle;\n",
       "    }\n",
       "\n",
       "    .dataframe tbody tr th {\n",
       "        vertical-align: top;\n",
       "    }\n",
       "\n",
       "    .dataframe thead th {\n",
       "        text-align: right;\n",
       "    }\n",
       "</style>\n",
       "<table border=\"1\" class=\"dataframe\">\n",
       "  <thead>\n",
       "    <tr style=\"text-align: right;\">\n",
       "      <th></th>\n",
       "      <th>Source</th>\n",
       "      <th>Target</th>\n",
       "      <th>author_parent</th>\n",
       "      <th>score</th>\n",
       "      <th>body</th>\n",
       "      <th>post_title</th>\n",
       "      <th>post_content</th>\n",
       "      <th>subreddit</th>\n",
       "      <th>Topic</th>\n",
       "    </tr>\n",
       "  </thead>\n",
       "  <tbody>\n",
       "    <tr>\n",
       "      <th>0</th>\n",
       "      <td>flavius_lacivious</td>\n",
       "      <td>j9zbrlb</td>\n",
       "      <td>TheAbcedarian</td>\n",
       "      <td>16</td>\n",
       "      <td>If you think you can insulate yourself from th...</td>\n",
       "      <td>The American climate migration has already beg...</td>\n",
       "      <td>NaN</td>\n",
       "      <td>collapse</td>\n",
       "      <td>getting, pretty, don, need, time, way, climate...</td>\n",
       "    </tr>\n",
       "    <tr>\n",
       "      <th>1</th>\n",
       "      <td>flavius_lacivious</td>\n",
       "      <td>ja1p7ko</td>\n",
       "      <td>dinah-fire</td>\n",
       "      <td>8</td>\n",
       "      <td>No they won’t. Let’s just start with millions ...</td>\n",
       "      <td>The American climate migration has already beg...</td>\n",
       "      <td>NaN</td>\n",
       "      <td>collapse</td>\n",
       "      <td>getting, pretty, don, need, time, way, climate...</td>\n",
       "    </tr>\n",
       "    <tr>\n",
       "      <th>2</th>\n",
       "      <td>flavius_lacivious</td>\n",
       "      <td>ja3e1m8</td>\n",
       "      <td>cat_chat_gato_maau1</td>\n",
       "      <td>-4</td>\n",
       "      <td>If you are going to argue a point, at least ha...</td>\n",
       "      <td>The American climate migration has already beg...</td>\n",
       "      <td>NaN</td>\n",
       "      <td>collapse</td>\n",
       "      <td>getting, pretty, don, need, time, way, climate...</td>\n",
       "    </tr>\n",
       "    <tr>\n",
       "      <th>3</th>\n",
       "      <td>CerddwrRhyddid</td>\n",
       "      <td>ja2d5o0</td>\n",
       "      <td>NP_Lima</td>\n",
       "      <td>11</td>\n",
       "      <td>Reach out and touch faith.\\n\\nDee do dum, dee ...</td>\n",
       "      <td>The American climate migration has already beg...</td>\n",
       "      <td>NaN</td>\n",
       "      <td>collapse</td>\n",
       "      <td>going, man, thank, probably, food, nuclear, re...</td>\n",
       "    </tr>\n",
       "    <tr>\n",
       "      <th>4</th>\n",
       "      <td>Additional_Bluebird9</td>\n",
       "      <td>i7qncyl</td>\n",
       "      <td>do-call-me-papi</td>\n",
       "      <td>12</td>\n",
       "      <td>Wow....</td>\n",
       "      <td>Wealthy Americans are buying second passports ...</td>\n",
       "      <td>&gt;The number of wealthy Americans applying for ...</td>\n",
       "      <td>collapse</td>\n",
       "      <td>won, com, change, like, think, just, https, do...</td>\n",
       "    </tr>\n",
       "  </tbody>\n",
       "</table>\n",
       "</div>"
      ],
      "text/plain": [
       "                 Source   Target        author_parent  score  \\\n",
       "0     flavius_lacivious  j9zbrlb        TheAbcedarian     16   \n",
       "1     flavius_lacivious  ja1p7ko           dinah-fire      8   \n",
       "2     flavius_lacivious  ja3e1m8  cat_chat_gato_maau1     -4   \n",
       "3        CerddwrRhyddid  ja2d5o0              NP_Lima     11   \n",
       "4  Additional_Bluebird9  i7qncyl      do-call-me-papi     12   \n",
       "\n",
       "                                                body  \\\n",
       "0  If you think you can insulate yourself from th...   \n",
       "1  No they won’t. Let’s just start with millions ...   \n",
       "2  If you are going to argue a point, at least ha...   \n",
       "3  Reach out and touch faith.\\n\\nDee do dum, dee ...   \n",
       "4                                            Wow....   \n",
       "\n",
       "                                          post_title  \\\n",
       "0  The American climate migration has already beg...   \n",
       "1  The American climate migration has already beg...   \n",
       "2  The American climate migration has already beg...   \n",
       "3  The American climate migration has already beg...   \n",
       "4  Wealthy Americans are buying second passports ...   \n",
       "\n",
       "                                        post_content subreddit  \\\n",
       "0                                                NaN  collapse   \n",
       "1                                                NaN  collapse   \n",
       "2                                                NaN  collapse   \n",
       "3                                                NaN  collapse   \n",
       "4  >The number of wealthy Americans applying for ...  collapse   \n",
       "\n",
       "                                               Topic  \n",
       "0  getting, pretty, don, need, time, way, climate...  \n",
       "1  getting, pretty, don, need, time, way, climate...  \n",
       "2  getting, pretty, don, need, time, way, climate...  \n",
       "3  going, man, thank, probably, food, nuclear, re...  \n",
       "4  won, com, change, like, think, just, https, do...  "
      ]
     },
     "execution_count": 183,
     "metadata": {},
     "output_type": "execute_result"
    }
   ],
   "source": [
    "df1 = pd.read_csv('community b.csv')"
   ]
  },
  {
   "cell_type": "code",
   "execution_count": 184,
   "id": "2fff0a33",
   "metadata": {},
   "outputs": [],
   "source": [
    "import pandas as pd\n",
    "from textblob import TextBlob\n",
    "import spacy\n",
    "\n",
    "# Load the spaCy model\n",
    "nlp = spacy.load('en_core_web_sm')\n",
    "\n",
    "# Initialize empty lists to store extracted phrases, sentiments, and scores\n",
    "phrases = []\n",
    "sentiments = []\n",
    "scores = []\n",
    "\n",
    "# Process each comment in the DataFrame\n",
    "for idx, row in df.iterrows():\n",
    "    comment = row['body']\n",
    "    doc = nlp(comment)\n",
    "    current_phrase = []\n",
    "\n",
    "    # Iterate through tokens in the processed document\n",
    "    for token in doc:\n",
    "        # Check if the token's dependency label is \"nsubj\" (nominal subject)\n",
    "        if token.dep_ == \"nsubj\":\n",
    "            # If there's an ongoing phrase, process it\n",
    "            if current_phrase:\n",
    "                # Combine the current phrase tokens into text\n",
    "                phrase_text = \" \".join(current_phrase)\n",
    "                # Calculate sentiment polarity for the phrase using TextBlob\n",
    "                sentiment = TextBlob(phrase_text).sentiment.polarity\n",
    "                # Append the extracted phrase, sentiment, and comment score to lists\n",
    "                phrases.append(phrase_text)\n",
    "                sentiments.append(sentiment)\n",
    "                scores.append(row['score'])\n",
    "                # Reset the current phrase for the next iteration\n",
    "                current_phrase = []\n",
    "        # Append the token's text to the current phrase\n",
    "        current_phrase.append(token.text)\n",
    "\n",
    "    # Append the last phrase (after the loop ends)\n",
    "    if current_phrase:\n",
    "        phrase_text = \" \".join(current_phrase)\n",
    "        sentiment = TextBlob(phrase_text).sentiment.polarity\n",
    "        phrases.append(phrase_text)\n",
    "        sentiments.append(sentiment)\n",
    "        scores.append(row['score'])\n",
    "\n",
    "# Create a new DataFrame with extracted phrases, sentiments, and scores\n",
    "df_phrases = pd.DataFrame({\n",
    "    'Phrase': phrases,\n",
    "    'Sentiment': sentiments,\n",
    "    'Score': scores\n",
    "    'Topic': topic\n",
    "})\n",
    "\n",
    "# Save the new DataFrame to a CSV file\n",
    "df_phrases.to_csv('phrases_sentiments_scores.csv', index=False)\n"
   ]
  },
  {
   "cell_type": "code",
   "execution_count": 186,
   "id": "f34387e1",
   "metadata": {},
   "outputs": [],
   "source": [
    "import pandas as pd\n",
    "from textblob import TextBlob\n",
    "import spacy\n",
    "\n",
    "# Load the spaCy model\n",
    "nlp = spacy.load('en_core_web_sm')\n",
    "\n",
    "# Initialize empty lists\n",
    "phrases = []\n",
    "sentiments = []\n",
    "scores = []\n",
    "\n",
    "# Process each comment in the DataFrame\n",
    "for idx, row in df1.iterrows():\n",
    "    comment = row['body']\n",
    "    doc = nlp(comment)\n",
    "    current_phrase = []\n",
    "\n",
    "    for token in doc:\n",
    "        if token.dep_ == \"nsubj\":\n",
    "            if current_phrase:\n",
    "                phrase_text = \" \".join(current_phrase)\n",
    "                sentiment = TextBlob(phrase_text).sentiment.polarity\n",
    "                phrases.append(phrase_text)\n",
    "                sentiments.append(sentiment)\n",
    "                scores.append(row['score'])\n",
    "                current_phrase = []\n",
    "        current_phrase.append(token.text)\n",
    "\n",
    "    # Append the last phrase\n",
    "    if current_phrase:\n",
    "        phrase_text = \" \".join(current_phrase)\n",
    "        sentiment = TextBlob(phrase_text).sentiment.polarity\n",
    "        phrases.append(phrase_text)\n",
    "        sentiments.append(sentiment)\n",
    "        scores.append(row['score'])\n",
    "\n",
    "# Create a new DataFrame with phrases, sentiments, and scores\n",
    "df_phrases_1 = pd.DataFrame({\n",
    "    'Phrase': phrases,\n",
    "    'Sentiment': sentiments,\n",
    "    'Score': scores\n",
    "    'Topic': topic\n",
    "})\n",
    "\n",
    "# Save the DataFrame to a CSV file\n",
    "df_phrases_1.to_csv('phrases_sentiments_scores.csv', index=False)\n"
   ]
  },
  {
   "cell_type": "code",
   "execution_count": 187,
   "id": "2c675321",
   "metadata": {},
   "outputs": [
    {
     "data": {
      "text/plain": [
       "array([ 0.        ,  0.2       , -0.1       ,  0.7       ,  0.05      ,\n",
       "       -0.375     ,  0.04166667,  0.41666667,  0.5       , -0.01851852,\n",
       "        0.055     , -0.875     , -0.2       ,  0.25      ,  0.6       ,\n",
       "        0.1875    ,  0.16666667,  0.4       , -0.4       ,  0.06666667,\n",
       "        0.8       , -0.5       ,  0.43958333,  0.45      , -0.8       ,\n",
       "        1.        ,  0.78125   ,  0.1       ,  0.375     , -0.25      ,\n",
       "        0.18148148, -0.16666667,  0.13636364, -0.025     , -0.8       ,\n",
       "       -0.6       , -0.05      , -0.7       , -0.3125    ,  0.1       ,\n",
       "       -0.06666667, -0.33333333,  0.43333333,  0.125     ,  0.14285714,\n",
       "       -0.125     , -1.        ,  0.18333333,  0.13333333, -0.09375   ,\n",
       "       -0.1875    , -0.35      , -0.05      ,  0.21428571, -0.225     ,\n",
       "        0.01111111,  0.43333333,  0.37777778,  0.175     ,  0.14166667,\n",
       "       -0.3       ,  0.03125   ,  0.3       ,  0.625     ,  0.28571429,\n",
       "        0.35      ,  0.85      ,  0.03333333, -0.03125   ,  0.23214286,\n",
       "        0.225     ,  0.21212121, -0.25      ,  0.33333333,  0.08      ,\n",
       "        0.41666667, -0.15833333, -0.375     ,  0.4       ,  0.17857143,\n",
       "       -0.05271465,  0.75      ,  0.65      , -0.65      , -0.08333333,\n",
       "        0.225     ,  0.05      ,  0.555     , -0.13333333, -0.05      ])"
      ]
     },
     "execution_count": 187,
     "metadata": {},
     "output_type": "execute_result"
    }
   ],
   "source": [
    "df_phrases['Sentiment'].unique()"
   ]
  },
  {
   "cell_type": "code",
   "execution_count": 195,
   "id": "421b9bb7",
   "metadata": {},
   "outputs": [
    {
     "name": "stderr",
     "output_type": "stream",
     "text": [
      "[nltk_data] Downloading package wordnet to /home/jovyan/nltk_data...\n",
      "[nltk_data]   Package wordnet is already up-to-date!\n"
     ]
    },
    {
     "data": {
      "text/plain": [
       "True"
      ]
     },
     "execution_count": 195,
     "metadata": {},
     "output_type": "execute_result"
    }
   ],
   "source": [
    "import nltk\n",
    "nltk.download('wordnet')"
   ]
  },
  {
   "cell_type": "code",
   "execution_count": 196,
   "id": "9b48b82e",
   "metadata": {},
   "outputs": [
    {
     "name": "stderr",
     "output_type": "stream",
     "text": [
      "[nltk_data] Downloading package averaged_perceptron_tagger to\n",
      "[nltk_data]     /home/jovyan/nltk_data...\n",
      "[nltk_data]   Package averaged_perceptron_tagger is already up-to-\n",
      "[nltk_data]       date!\n",
      "[nltk_data] Downloading package wordnet to /home/jovyan/nltk_data...\n",
      "[nltk_data]   Package wordnet is already up-to-date!\n"
     ]
    }
   ],
   "source": [
    "import nltk\n",
    "\n",
    "# Download the averaged perceptron tagger and WordNet corpus from NLTK\n",
    "nltk.download('averaged_perceptron_tagger')\n",
    "nltk.download('wordnet')\n",
    "\n",
    "from nltk.stem import WordNetLemmatizer\n",
    "from nltk.corpus import wordnet\n",
    "\n",
    "# Create an instance of the WordNetLemmatizer\n",
    "lemmatizer = WordNetLemmatizer()\n"
   ]
  },
  {
   "cell_type": "code",
   "execution_count": 160,
   "id": "c50c40fc",
   "metadata": {},
   "outputs": [],
   "source": [
    "sentiment_scores = df_phrases['Sentiment']"
   ]
  },
  {
   "cell_type": "code",
   "execution_count": 161,
   "id": "891b8012",
   "metadata": {},
   "outputs": [],
   "source": [
    "sentiment_scores_1 = df_phrases_1['Sentiment']"
   ]
  },
  {
   "cell_type": "code",
   "execution_count": 162,
   "id": "194ba08c",
   "metadata": {},
   "outputs": [
    {
     "data": {
      "image/png": "[encoded data removed]",
      "text/plain": [
       "<Figure size 432x288 with 1 Axes>"
      ]
     },
     "metadata": {
      "needs_background": "light"
     },
     "output_type": "display_data"
    }
   ],
   "source": [
    "import matplotlib.pyplot as plt\n",
    "\n",
    "# Plot the sentiment distribution\n",
    "plt.hist(sentiment_scores, bins=20, edgecolor='black')\n",
    "plt.title('Sentiment Distribution of Reddit Comments')\n",
    "plt.xlabel('Sentiment Score')\n",
    "plt.ylabel('Frequency')\n",
    "plt.show()\n"
   ]
  },
  {
   "cell_type": "code",
   "execution_count": 163,
   "id": "fadc331b",
   "metadata": {},
   "outputs": [
    {
     "data": {
      "image/png": "[encoded data removed]",
      "text/plain": [
       "<Figure size 432x288 with 1 Axes>"
      ]
     },
     "metadata": {
      "needs_background": "light"
     },
     "output_type": "display_data"
    }
   ],
   "source": [
    "import matplotlib.pyplot as plt\n",
    "\n",
    "# Plot the sentiment distribution\n",
    "plt.hist(sentiment_scores_1, bins=20, edgecolor='black')\n",
    "plt.title('Sentiment Distribution of Reddit Comments')\n",
    "plt.xlabel('Sentiment Score')\n",
    "plt.ylabel('Frequency')\n",
    "plt.show()\n"
   ]
  },
  {
   "cell_type": "code",
   "execution_count": 65,
   "id": "c163fe30",
   "metadata": {},
   "outputs": [],
   "source": [
    "topics = df_phrases['topics']"
   ]
  },
  {
   "cell_type": "code",
   "execution_count": 36,
   "id": "8c3280b7",
   "metadata": {},
   "outputs": [],
   "source": [
    "topics_1 = df_phrases_1['topics']"
   ]
  },
  {
   "cell_type": "code",
   "execution_count": 37,
   "id": "d73f9e83",
   "metadata": {},
   "outputs": [],
   "source": [
    "# Create a DataFrame to store topic sentiments\n",
    "# The DataFrame will have two columns: 'Topic' to store the topics and 'Sentiment' to store corresponding sentiment scores\n",
    "topic_sentiments = pd.DataFrame({'Topic': topics, 'Sentiment': df_phrases['Sentiment']})"
   ]
  },
  {
   "cell_type": "code",
   "execution_count": 208,
   "id": "dcb6f3a9",
   "metadata": {},
   "outputs": [],
   "source": [
    "# Create a DataFrame to store topic sentiments\n",
    "# The DataFrame will have two columns: 'Topic' to store the topics and 'Sentiment' to store corresponding sentiment scores\n",
    "topic_sentiments_1 = pd.DataFrame({'Topic': topics_1, 'Sentiment': df_phrases_1['Sentiment']})"
   ]
  },
  {
   "cell_type": "code",
   "execution_count": 41,
   "id": "d0db0c6f",
   "metadata": {},
   "outputs": [],
   "source": [
    "average_sentiments = topic_sentiments.groupby('Topic')['Sentiment'].mean()"
   ]
  },
  {
   "cell_type": "code",
   "execution_count": 42,
   "id": "3f44e028",
   "metadata": {},
   "outputs": [],
   "source": [
    "average_sentiments_1 = topic_sentiments_1.groupby('Topic')['Sentiment'].mean()"
   ]
  },
  {
   "cell_type": "code",
   "execution_count": 43,
   "id": "58d52ad3",
   "metadata": {},
   "outputs": [],
   "source": [
    "sorted_sentiments = average_sentiments.sort_values(ascending=False)"
   ]
  },
  {
   "cell_type": "code",
   "execution_count": 213,
   "id": "fc4f2f39",
   "metadata": {},
   "outputs": [],
   "source": [
    "sorted_sentiments_1 = average_sentiments_1.sort_values(ascending=False)"
   ]
  },
  {
   "cell_type": "code",
   "execution_count": 218,
   "id": "16403665",
   "metadata": {},
   "outputs": [
    {
     "data": {
      "image/png": "[encoded data removed]",
      "text/plain": [
       "<Figure size 720x432 with 1 Axes>"
      ]
     },
     "metadata": {
      "needs_background": "light"
     },
     "output_type": "display_data"
    }
   ],
   "source": [
    "# Import necessary libraries\n",
    "import pandas as pd\n",
    "import matplotlib.pyplot as plt\n",
    "\n",
    "\n",
    "# Create DataFrames from the Series\n",
    "df_phrases = sorted_sentiments.reset_index()\n",
    "df_phrases_1 = sorted_sentiments_1.reset_index()\n",
    "\n",
    "# Merge the two DataFrames based on the 'Topic' column\n",
    "merged_df = pd.merge(df_phrases_1, df_phrases, on='Topic', suffixes=('_a', '_b'))\n",
    "\n",
    "# Calculate the absolute difference in sentiment between Sentiment A and Sentiment B\n",
    "merged_df['Sentiment_diff'] = abs(merged_df['Sentiment_a'] - merged_df['Sentiment_b'])\n",
    "\n",
    "# Get the topics with the greatest sentiment differences\n",
    "top_diff_topics = merged_df.nlargest(10, 'Sentiment_diff')['Topic']\n",
    "\n",
    "# Filter the merged DataFrame to include only the top difference topics\n",
    "filtered_df = merged_df[merged_df['Topic'].isin(top_diff_topics)]\n",
    "\n",
    "# Manual labels for the x-axis\n",
    "x_labels = ['label 1','label 2','label 3']\n",
    "\n",
    "# Plot the filtered topics and their sentiments\n",
    "plt.figure(figsize=(10, 6))\n",
    "plt.bar(filtered_df['Topic'], filtered_df['Sentiment_a'], label='Sentiment A')\n",
    "plt.bar(filtered_df['Topic'], filtered_df['Sentiment_b'], label='Sentiment B', alpha=0.7)\n",
    "plt.xlabel('Topic')\n",
    "plt.ylabel('Sentiment')\n",
    "plt.title('Comparison of Sentiments for Topics with Greatest Differences')\n",
    "plt.xticks(filtered_df['Topic'], x_labels, rotation=45, ha='right')\n",
    "plt.legend()\n",
    "plt.tight_layout()\n",
    "plt.savefig('figure.png', dpi=300)\n",
    "plt.show()\n"
   ]
  },
  {
   "cell_type": "code",
   "execution_count": 222,
   "id": "295a5a67",
   "metadata": {},
   "outputs": [
    {
     "data": {
      "image/png": "[encoded data removed]",
      "text/plain": [
       "<Figure size 720x432 with 1 Axes>"
      ]
     },
     "metadata": {
      "needs_background": "light"
     },
     "output_type": "display_data"
    }
   ],
   "source": [
    "# Get the topics with the greatest sentiment differences\n",
    "top_diff_topics = merged_df.nlargest(10, 'Sentiment_diff')['Topic']\n",
    "\n",
    "# Filter the merged DataFrame to include only the top difference topics\n",
    "filtered_df = merged_df[merged_df['Topic'].isin(top_diff_topics)]\n",
    "\n",
    "# Manual labels for the x-axis\n",
    "x_labels = ['label 1','label 2','label 3']\n",
    "\n",
    "# Plot the filtered topics and their sentiments\n",
    "plt.figure(figsize=(10, 6))\n",
    "plt.bar(filtered_df['Topic'], filtered_df['Sentiment_a'], label='Sentiment A')\n",
    "plt.bar(filtered_df['Topic'], filtered_df['Sentiment_b'], label='Sentiment B', alpha=0.7)\n",
    "plt.xlabel('Topic')\n",
    "plt.ylabel('Sentiment')\n",
    "plt.title('Comparison of Sentiments for Topics with Greatest Differences')\n",
    "plt.xticks(filtered_df['Topic'], x_labels, rotation=45, ha='right')\n",
    "plt.yticks()  \n",
    "plt.legend()\n",
    "plt.tight_layout()\n",
    "plt.savefig('figure.png', dpi=300)\n",
    "plt.show()\n"
   ]
  }
 ],
 "metadata": {
  "kernelspec": {
   "display_name": "Python 3 (ipykernel)",
   "language": "python",
   "name": "python3"
  },
  "language_info": {
   "codemirror_mode": {
    "name": "ipython",
    "version": 3
   },
   "file_extension": ".py",
   "mimetype": "text/x-python",
   "name": "python",
   "nbconvert_exporter": "python",
   "pygments_lexer": "ipython3",
   "version": "3.9.12"
  }
 },
 "nbformat": 4,
 "nbformat_minor": 5
}
