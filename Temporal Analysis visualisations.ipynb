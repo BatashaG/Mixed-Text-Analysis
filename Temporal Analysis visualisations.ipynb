{
 "cells": [
  {
   "cell_type": "code",
   "execution_count": null,
   "id": "1dffbf95",
   "metadata": {},
   "outputs": [],
   "source": [
    "import pandas as pd"
   ]
  },
  {
   "cell_type": "code",
   "execution_count": null,
   "id": "a53ab997",
   "metadata": {},
   "outputs": [],
   "source": [
    "df = pd.read_csv('reddit_posts_data_md.csv')\n",
    "df = df.assign(category='category_md')\n",
    "df1= pd.read_csv('reddit_posts_data_eco.csv')\n",
    "df1 = df1.assign(category='category_eco')\n",
    "df2 = pd.read_csv('reddit_posts_data_eng.csv')\n",
    "df2 = df2.assign(category='category_eng')\n",
    "df3 = pd.read_csv('reddit_posts_data_soc.csv')\n",
    "df3 = df3.assign(category='category_soc')\n",
    "df4 = pd.read_csv('reddit_posts_data_cul.csv')\n",
    "df4 = df4.assign(category='category_cul')\n",
    "df5 = pd.read_csv('reddit_posts_data_pol.csv')\n",
    "df5= df5.assign(category='category_pol')\n",
    "df6= pd.read_csv('reddit_posts_data_tech.csv')\n",
    "df6= df6.assign(category='category_tech')\n",
    "df7= pd.read_csv('reddit_posts_data_sc.csv')\n",
    "df7= df7.assign(category='category_sc')"
   ]
  },
  {
   "cell_type": "code",
   "execution_count": null,
   "id": "7552753d",
   "metadata": {},
   "outputs": [],
   "source": [
    "import pandas as pd\n",
    "\n",
    "# Concatenate dfs into a new dataframe\n",
    "dff = pd.concat([df, df1,df2,df3,df4,df5,df6,df7], ignore_index=True)\n"
   ]
  },
  {
   "cell_type": "code",
   "execution_count": null,
   "id": "1a466668",
   "metadata": {},
   "outputs": [],
   "source": [
    "#finding dominant topics for each category\n",
    "topics_by_year = df.groupby('Year')['Dominant Topic'].value_counts().unstack(fill_value=0)\n",
    "print(topics_by_year)"
   ]
  },
  {
   "cell_type": "code",
   "execution_count": null,
   "id": "ea32a4ea",
   "metadata": {},
   "outputs": [],
   "source": [
    "topics_by_year.plot(kind='bar', stacked=True, figsize=(10, 6))\n",
    "plt.xlabel('Year')\n",
    "plt.ylabel('Number of Posts')\n",
    "plt.title('Distribution of Topics across Years')\n",
    "plt.legend(title='Dominant Topic', loc='upper right')\n",
    "plt.show()"
   ]
  },
  {
   "cell_type": "code",
   "execution_count": null,
   "id": "07b28f24",
   "metadata": {},
   "outputs": [],
   "source": [
    "# Define custom colors (shades of blue) for the bars\n",
    "custom_colors =  ['olive', 'darkblue', 'orange', 'maroon', 'darkgrey']\n",
    "\n",
    "# Create the bar plot with custom colors\n",
    "ax = topics_by_year.plot(kind='bar', stacked=True, figsize=(10, 6), color=custom_colors)\n",
    "\n",
    "# Get the handles and labels from the legend\n",
    "handles, labels = ax.get_legend_handles_labels()\n",
    "\n",
    "# Create custom legend labels\n",
    "custom_labels = ['label 1','label 2','label 3']  # Replace with your custom labels\n",
    "\n",
    "# Modify the handles and labels with custom labels\n",
    "ax.legend(handles, custom_labels, title='Dominant Topic', loc='upper right')\n",
    "\n",
    "# Set custom colors (shades of blue) for the legend labels\n",
    "for i, text in enumerate(ax.legend_.get_texts()):\n",
    "    text.set_color(custom_colors[i])  # Set the same shades of blue used for the bars\n",
    "\n",
    "plt.xlabel('Year')\n",
    "plt.ylabel('Number of Posts')\n",
    "plt.title('Distribution of Topics across Years (science)')\n",
    "plt.savefig('graph.png', dpi=300)\n",
    "plt.show()\n"
   ]
  },
  {
   "cell_type": "code",
   "execution_count": null,
   "id": "d47b82c2",
   "metadata": {},
   "outputs": [],
   "source": [
    "category_counts = dff['category'].value_counts()\n",
    "\n",
    "# Calculate the total number of entries (posts)\n",
    "total_posts = len(dff)\n",
    "\n",
    "# Calculate the percentage of posts for each unique category\n",
    "category_percentages = (category_counts / total_posts) * 100\n",
    "\n",
    "# Create a new DataFrame with the percentages\n",
    "percentage_table = pd.DataFrame({'Category': category_percentages.index, 'Percentage': category_percentages.values})\n",
    "\n",
    "# Display the percentage table\n",
    "percentage_table"
   ]
  },
  {
   "cell_type": "code",
   "execution_count": null,
   "id": "f4199f70",
   "metadata": {},
   "outputs": [],
   "source": [
    "import pandas as pd\n",
    "import matplotlib.pyplot as plt\n",
    "\n",
    "# Group the data by 'year' and 'category' and calculate the average 'sentiment_score'\n",
    "\n",
    "grouped_data_1=dff.groupby(['Year', 'category'])['Upvote Count'].mean().reset_index()\n",
    "\n",
    "grouped_data_1"
   ]
  },
  {
   "cell_type": "code",
   "execution_count": null,
   "id": "ae6e2ae0",
   "metadata": {},
   "outputs": [],
   "source": [
    "grouped_data = dff.groupby(['Year', 'category'])['Comment Count'].mean().reset_index()\n",
    "grouped_data"
   ]
  },
  {
   "cell_type": "code",
   "execution_count": null,
   "id": "aaa3d7ca",
   "metadata": {},
   "outputs": [],
   "source": [
    "grouped_data"
   ]
  },
  {
   "cell_type": "code",
   "execution_count": null,
   "id": "1852fb8f",
   "metadata": {},
   "outputs": [],
   "source": [
    "# Create the figure and the axes for the line plot\n",
    "plt.figure(figsize=(12, 6))\n",
    "\n",
    "# Get the list of unique categories\n",
    "categories = dff['category'].unique()\n",
    "\n",
    "# Plot a separate line for each category\n",
    "for category in categories:\n",
    "    data_by_category = grouped_data[grouped_data['category'] == category]\n",
    "    plt.plot(data_by_category['Year'], data_by_category['Comment Count'], label=category)\n",
    "\n",
    "# Set the labels for x-axis and y-axis\n",
    "plt.xlabel('Year')\n",
    "plt.ylabel('Average Comment Count')\n",
    "\n",
    "# Set the title for the plot\n",
    "plt.title('Average Comment Count for Each Year by Category')\n",
    "\n",
    "# Show the legend to differentiate the lines by category\n",
    "plt.legend()\n",
    "plt.savefig('no.ofpost.png',dpi=300)\n",
    "# Show the plot (optional, if you want to display it in your Jupyter Notebook or IDE)\n",
    "plt.show()\n"
   ]
  },
  {
   "cell_type": "code",
   "execution_count": null,
   "id": "e51983af",
   "metadata": {},
   "outputs": [],
   "source": [
    "import matplotlib.pyplot as plt\n",
    "import seaborn as sns\n",
    "import numpy as np\n",
    "from scipy.stats import linregress\n",
    "\n",
    "\n",
    "# Create the scatter plot with custom legend labels\n",
    "plt.figure(figsize=(10, 6))\n",
    "scatter_plot = sns.scatterplot(data=dff, x='Upvote Count', y='Comment Count', hue='Type', palette='Set1', s=100)\n",
    "\n",
    "# Get the handles and labels from the legend\n",
    "handles, labels = scatter_plot.get_legend_handles_labels()\n",
    "\n",
    "# Create custom legend labels\n",
    "custom_labels = ['opinionated', 'neutral']\n",
    "\n",
    "# Modify the handles and labels with custom labels\n",
    "scatter_plot.legend(handles=handles, labels=custom_labels, title='Type', loc='upper right')\n",
    "\n",
    "plt.title('Scatter Plot of Upvote Count vs. Comment Count')\n",
    "plt.xlabel('Upvote Count')\n",
    "plt.ylabel('Comment Count')\n",
    "\n",
    "# Calculate the slope of the regression line for 'opinionated' data\n",
    "opinionated_data = dff[dff['Type'] == 'opinionated']\n",
    "opinionated_slope, _, _, _, _ = linregress(opinionated_data['Upvote Count'], opinionated_data['Comment Count'])\n",
    "\n",
    "# Calculate the slope of the regression line for 'neutral' data\n",
    "neutral_data = dff[dff['Type'] == 'neutral']\n",
    "neutral_slope, _, _, _, _ = linregress(neutral_data['Upvote Count'], neutral_data['Comment Count'])\n",
    "\n",
    "print(f\"Slope for 'opinionated' data: {opinionated_slope}\")\n",
    "print(f\"Slope for 'neutral' data: {neutral_slope}\")\n",
    "\n",
    "plt.savefig('p.png', dpi=300)\n",
    "plt.show()\n"
   ]
  },
  {
   "cell_type": "code",
   "execution_count": null,
   "id": "bbca0f01",
   "metadata": {},
   "outputs": [],
   "source": [
    "k=dff"
   ]
  },
  {
   "cell_type": "code",
   "execution_count": null,
   "id": "eebc05c5",
   "metadata": {},
   "outputs": [],
   "source": [
    "k.head()"
   ]
  },
  {
   "cell_type": "code",
   "execution_count": null,
   "id": "6c09623b",
   "metadata": {},
   "outputs": [],
   "source": [
    "sns.set(style=\"whitegrid\")\n",
    "plt.figure(figsize=(10, 6))\n",
    "\n",
    "# Box plot for 'Upvote Count' by 'Type'\n",
    "sns.boxplot(x='Type', y='Upvote Count', data=k)\n",
    "plt.title('Box Plot of Upvote Count by Type')\n",
    "plt.xlabel('Type')\n",
    "plt.ylabel('Upvote Count')\n",
    "plt.savefig('p.png',dpi=300)\n",
    "plt.show()\n",
    "\n",
    "# Box plot for 'Comment Count' by 'Type'\n",
    "plt.figure(figsize=(10, 6))\n",
    "sns.boxplot(x='Type', y='Comment Count', data=k)\n",
    "plt.title('Box Plot of Comment Count by Type')\n",
    "plt.xlabel('Type')\n",
    "plt.ylabel('Comment Count')\n",
    "plt.savefig('q.png',dpi=300)\n",
    "plt.show()"
   ]
  }
 ],
 "metadata": {
  "kernelspec": {
   "display_name": "Python 3 (ipykernel)",
   "language": "python",
   "name": "python3"
  },
  "language_info": {
   "codemirror_mode": {
    "name": "ipython",
    "version": 3
   },
   "file_extension": ".py",
   "mimetype": "text/x-python",
   "name": "python",
   "nbconvert_exporter": "python",
   "pygments_lexer": "ipython3",
   "version": "3.9.12"
  }
 },
 "nbformat": 4,
 "nbformat_minor": 5
}
