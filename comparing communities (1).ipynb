{
 "cells": [
  {
   "cell_type": "code",
   "execution_count": null,
   "id": "6138ee17",
   "metadata": {},
   "outputs": [],
   "source": [
    "import scipy.stats as stats"
   ]
  },
  {
   "cell_type": "code",
   "execution_count": null,
   "id": "12ef7586",
   "metadata": {},
   "outputs": [],
   "source": [
    "import pandas as pd\n",
    "\n",
    "# Read the CSV file into a DataFrame\n",
    "df = pd.read_csv('community a.csv')\n",
    "\n",
    "# Display the DataFrame\n",
    "df.head()\n"
   ]
  },
  {
   "cell_type": "code",
   "execution_count": null,
   "id": "4d45e192",
   "metadata": {},
   "outputs": [],
   "source": [
    "# Group the DataFrame by the 'topics' column and calculate the mean of the 'Sentiment' column\n",
    "average_sentiment = df.groupby('topics')['Sentiment'].mean()\n",
    "\n",
    "# Display the average sentiment for each topic\n",
    "average_sentiment\n"
   ]
  },
  {
   "cell_type": "code",
   "execution_count": null,
   "id": "57a0724e",
   "metadata": {},
   "outputs": [],
   "source": [
    "import matplotlib.pyplot as plt\n",
    "\n",
    "# Plot the average sentiment\n",
    "plt.figure(figsize=(10, 6))\n",
    "average_sentiment.plot(kind='bar')\n",
    "plt.xlabel('Topics')\n",
    "plt.ylabel('Average Sentiment')\n",
    "plt.title('Average Sentiment for Each Topic')\n",
    "plt.xticks(rotation=45)\n",
    "plt.tight_layout()\n",
    "plt.show()\n"
   ]
  },
  {
   "cell_type": "code",
   "execution_count": null,
   "id": "d87ea34f",
   "metadata": {},
   "outputs": [],
   "source": [
    "# Read the CSV file into a DataFrame\n",
    "df1 = pd.read_csv('community b.csv')\n",
    "\n",
    "# Display the DataFrame\n",
    "df1.head()\n"
   ]
  },
  {
   "cell_type": "code",
   "execution_count": null,
   "id": "8a9e6d41",
   "metadata": {},
   "outputs": [],
   "source": [
    "# Group the DataFrame by the 'topics' column and calculate the mean of the 'Sentiment' column\n",
    "average_sentiment = df1.groupby('topics')['Sentiment'].mean()\n",
    "\n",
    "# Display the average sentiment for each topic\n",
    "average_sentiment\n"
   ]
  },
  {
   "cell_type": "code",
   "execution_count": null,
   "id": "fa68795a",
   "metadata": {},
   "outputs": [],
   "source": [
    "# Plot the average sentiment\n",
    "plt.figure(figsize=(10, 6))\n",
    "average_sentiment.plot(kind='bar')\n",
    "plt.xlabel('Topics')\n",
    "plt.ylabel('Average Sentiment')\n",
    "plt.title('Average Sentiment for Each Topic')\n",
    "plt.xticks(rotation=45)\n",
    "plt.tight_layout()\n",
    "plt.show()\n"
   ]
  },
  {
   "cell_type": "code",
   "execution_count": null,
   "id": "4144f182",
   "metadata": {},
   "outputs": [],
   "source": [
    "#finding common topics between both the communities\n",
    "common_topics = set(df['topics']).intersection(df1['topics'])"
   ]
  },
  {
   "cell_type": "code",
   "execution_count": null,
   "id": "49b7e6af",
   "metadata": {},
   "outputs": [],
   "source": [
    "common_topics"
   ]
  },
  {
   "cell_type": "code",
   "execution_count": null,
   "id": "bb09779e",
   "metadata": {},
   "outputs": [],
   "source": [
    "# Filter the DataFrame to include only rows where the 'topics' column has common topics with 'common_topics'\n",
    "df_common = df[df['topics'].apply(lambda x: bool(set(x) & set(common_topics)))]\n",
    "\n",
    "# Filter another DataFrame (df1) in the same way\n",
    "df1_common = df1[df1['topics'].apply(lambda x: bool(set(x) & set(common_topics)))]\n",
    "\n",
    "# Extract the 'Sentiment' column values from the filtered DataFrame (df_common)\n",
    "# and store them as a list in the 'community_sentiment' variable\n",
    "community_sentiment = df_common['Sentiment'].tolist()\n",
    "\n",
    "# Extract the 'Sentiment' column values from the filtered DataFrame (df1_common)\n",
    "# and store them as a list in the 'community1_sentiment' variable\n",
    "community1_sentiment = df1_common['Sentiment'].tolist()\n"
   ]
  },
  {
   "cell_type": "code",
   "execution_count": null,
   "id": "2abaa39d",
   "metadata": {},
   "outputs": [],
   "source": [
    "# Calculate the t-statistic and p-value using an independent two-sample t-test\n",
    "t_statistic, p_value = stats.ttest_ind(community_sentiment, community1_sentiment)"
   ]
  },
  {
   "cell_type": "code",
   "execution_count": null,
   "id": "032566fc",
   "metadata": {},
   "outputs": [],
   "source": [
    "print(\"T-Statistic:\", t_statistic)\n",
    "print(\"P-Value:\", p_value)"
   ]
  },
  {
   "cell_type": "code",
   "execution_count": null,
   "id": "29ec9395",
   "metadata": {},
   "outputs": [],
   "source": [
    "print(df_common['Sentiment'].isnull().sum())\n",
    "print(df1_common['Sentiment'].isnull().sum())"
   ]
  },
  {
   "cell_type": "code",
   "execution_count": null,
   "id": "7093bd2a",
   "metadata": {},
   "outputs": [],
   "source": [
    "import pandas as pd\n",
    "import matplotlib.pyplot as plt\n",
    "import seaborn as sns\n",
    "\n",
    "# Assuming you have two data frames named df and df1\n",
    "common_topics = set([topic for topics in df['topics'] for topic in topics]).intersection([topic for topics in df1['topics'] for topic in topics])\n",
    "df_common = df[df['topics'].apply(lambda x: bool(set(x) & common_topics))]\n",
    "df1_common = df1[df1['topics'].apply(lambda x: bool(set(x) & common_topics))]\n",
    "\n",
    "# Check if there are common topics between the communities\n",
    "if df_common.empty or df1_common.empty:\n",
    "    print(\"No common topics found between the communities.\")\n",
    "else:\n",
    "    # Extract the sentiment scores and topics from the common data frames\n",
    "    community_sentiment = df_common['Sentiment']\n",
    "    community1_sentiment = df1_common['Sentiment']\n",
    "    topics = df1_common['topics']\n",
    "\n",
    "    # Combine the sentiment scores and topics into a single DataFrame\n",
    "    data = pd.DataFrame({'Community 0 Sentiment': community_sentiment,\n",
    "                         'Community 1 Sentiment': community1_sentiment,\n",
    "                         'Topics': topics})\n",
    "\n",
    "    # Set the figure size\n",
    "    plt.figure(figsize=(10, 6))\n",
    "\n",
    "    # Create a bar plot\n",
    "    sns.barplot(x='Topics', y='Community 0 Sentiment', data=data, color='blue', label='Community 0')\n",
    "    sns.barplot(x='Topics', y='Community 1 Sentiment', data=data, color='orange', label='Community 1')\n",
    "\n",
    "    # Add labels and title\n",
    "    plt.xlabel('Topics')\n",
    "    plt.ylabel('Sentiment')\n",
    "    plt.title('Sentiment Distribution for Each Topic')\n",
    "\n",
    "    # Add a legend\n",
    "    plt.legend()\n",
    "\n",
    "    # Rotate x-axis labels if needed\n",
    "    plt.xticks(rotation=45)\n",
    "\n",
    "    # Display the plot\n",
    "    plt.show()\n"
   ]
  },
  {
   "cell_type": "code",
   "execution_count": null,
   "id": "16754ee5",
   "metadata": {},
   "outputs": [],
   "source": [
    "from scipy import stats\n",
    "\n",
    "\n",
    "# Extract the sentiment scores from the common data frames\n",
    "community_sentiment = df_common['Sentiment'].tolist()\n",
    "community1_sentiment = df1_common['Sentiment'].tolist()\n",
    "\n",
    "# Perform independent t-test\n",
    "t_statistic, p_value = stats.ttest_ind(community_sentiment, community1_sentiment)\n",
    "\n",
    "# Print the results\n",
    "print(\"T-Statistic:\", t_statistic)\n",
    "print(\"P-Value:\", p_value)\n"
   ]
  },
  {
   "cell_type": "code",
   "execution_count": null,
   "id": "e7a7463b",
   "metadata": {},
   "outputs": [],
   "source": [
    "# Calculate the difference in sentiment scores between the two communities for each common topic\n",
    "df_common['Sentiment_Difference'] = df_common['Sentiment'] - df1_common['Sentiment']\n",
    "\n",
    "# Find the topic with the largest sentiment difference\n",
    "most_divergent_topic = df_common.loc[df_common['Sentiment_Difference'].idxmax(), 'topics']\n",
    "max_sentiment_difference = df_common['Sentiment_Difference'].max()\n",
    "\n",
    "# Print the most divergent topic and its sentiment difference\n",
    "print(\"Most Divergent Topic:\", most_divergent_topic)\n",
    "print(\"Sentiment Difference:\", max_sentiment_difference)\n"
   ]
  },
  {
   "cell_type": "code",
   "execution_count": null,
   "id": "7c03d1cf",
   "metadata": {},
   "outputs": [],
   "source": [
    "# Filter the data frames to include only the rows with the most divergent topic\n",
    "df_topic = df_common[df_common['topics'] == most_divergent_topic]\n",
    "df1_topic = df1_common[df1_common['topics'] == most_divergent_topic]\n",
    "\n",
    "# Extract the sentiment scores for the most divergent topic\n",
    "community_sentiment = df_topic['Sentiment'].tolist()\n",
    "community1_sentiment = df1_topic['Sentiment'].tolist()\n",
    "\n",
    "# Perform the t-test for the most divergent topic\n",
    "t_statistic, p_value = stats.ttest_ind(community_sentiment, community1_sentiment)\n",
    "print(\"T-Statistic:\", t_statistic)\n",
    "print(\"P-Value:\", p_value)\n"
   ]
  },
  {
   "cell_type": "code",
   "execution_count": null,
   "id": "5ff00a78",
   "metadata": {},
   "outputs": [],
   "source": [
    "import numpy as np\n",
    "import scipy.stats as stats\n",
    "import matplotlib.pyplot as plt\n",
    "\n",
    "\n",
    "# Extract the column of interest for normality assessment\n",
    "column_data = df['Sentiment']\n",
    "\n",
    "# Visual Inspection: Histogram\n",
    "plt.figure(figsize=(8, 6))\n",
    "plt.hist(column_data, bins='auto', alpha=0.7, color='blue')\n",
    "plt.xlabel('Sentiment')\n",
    "plt.ylabel('Frequency')\n",
    "plt.title('Histogram of Sentiment')\n",
    "plt.show()\n",
    "\n",
    "# Normality Tests\n",
    "shapiro_test = stats.shapiro(column_data)\n",
    "print(\"Shapiro-Wilk Test - p-value:\", shapiro_test.pvalue)\n",
    "\n",
    "kstest = stats.kstest(column_data, 'norm')\n",
    "print(\"Kolmogorov-Smirnov Test - p-value:\", kstest.pvalue)\n",
    "\n",
    "# Q-Q Plot\n",
    "plt.figure(figsize=(6, 6))\n",
    "stats.probplot(column_data, plot=plt)\n",
    "plt.xlabel('Theoretical Quantiles')\n",
    "plt.ylabel('Ordered Values')\n",
    "plt.title('Q-Q Plot')\n",
    "plt.show()\n"
   ]
  },
  {
   "cell_type": "code",
   "execution_count": null,
   "id": "0701ec69",
   "metadata": {},
   "outputs": [],
   "source": [
    "import numpy as np\n",
    "import scipy.stats as stats\n",
    "import matplotlib.pyplot as plt\n",
    "\n",
    "# Extract the column of interest for normality assessment\n",
    "column_data = df1['Sentiment']\n",
    "\n",
    "# Visual Inspection: Histogram\n",
    "plt.figure(figsize=(8, 6))\n",
    "plt.hist(column_data, bins='auto', alpha=0.7, color='blue')\n",
    "plt.xlabel('Sentiment')\n",
    "plt.ylabel('Frequency')\n",
    "plt.title('Histogram of Sentiment')\n",
    "plt.show()\n",
    "\n",
    "# Normality Tests\n",
    "shapiro_test = stats.shapiro(column_data)\n",
    "print(\"Shapiro-Wilk Test - p-value:\", shapiro_test.pvalue)\n",
    "\n",
    "kstest = stats.kstest(column_data, 'norm')\n",
    "print(\"Kolmogorov-Smirnov Test - p-value:\", kstest.pvalue)\n",
    "\n",
    "# Q-Q Plot\n",
    "plt.figure(figsize=(6, 6))\n",
    "stats.probplot(column_data, plot=plt)\n",
    "plt.xlabel('Theoretical Quantiles')\n",
    "plt.ylabel('Ordered Values')\n",
    "plt.title('Q-Q Plot')\n",
    "plt.show()\n"
   ]
  },
  {
   "cell_type": "code",
   "execution_count": null,
   "id": "81b8ac61",
   "metadata": {},
   "outputs": [],
   "source": [
    "from scipy.stats import mannwhitneyu\n",
    "\n",
    "\n",
    "# Extract the 'Sentiment' values from the 'df_common' and 'df1_common' DataFrames and convert them to lists\n",
    "community_sentiment = df_common['Sentiment'].tolist()\n",
    "community1_sentiment = df1_common['Sentiment'].tolist()\n",
    "\n",
    "# Calculate the Mann-Whitney U statistic and p-value using the mannwhitneyu function\n",
    "# The Mann-Whitney U test is a non-parametric test used to compare two independent samples\n",
    "# It assesses whether the distributions of the two samples are statistically different\n",
    "statistic, p_value = mannwhitneyu(community_sentiment, community1_sentiment)\n",
    "\n",
    "# Print the Mann-Whitney U statistic and p-value\n",
    "print(\"Mann-Whitney U statistic:\", statistic)\n",
    "print(\"P-Value:\", p_value)\n",
    "\n"
   ]
  },
  {
   "cell_type": "code",
   "execution_count": null,
   "id": "f23726cb",
   "metadata": {},
   "outputs": [],
   "source": [
    "import numpy as np\n",
    "import statsmodels.api as sm\n",
    "\n",
    "def get_field_data(fields, rows):\n",
    "    output = []\n",
    "    for r in rows:\n",
    "        row_raw = []\n",
    "        for f in fields:\n",
    "            row_raw.append(r[f])  # Access the field 'f' in the current row 'r'\n",
    "        output.append(row_raw)\n",
    "    return np.array(output)\n",
    "\n",
    "def process(target, fields, data):\n",
    "    output = f'{fields}\\n\\n'\n",
    "    \n",
    "    x_data = get_field_data(fields, data)\n",
    "    y_data = get_field_data([target], data)\n",
    "    x_data = sm.add_constant(x_data)\n",
    "\n",
    "    model = sm.OLS(y_data, x_data)\n",
    "    results = model.fit()\n",
    "    \n",
    "    output += f'{results.summary()}'\n",
    "    return output\n",
    "\n",
    "raw_data = [\n",
    "    {\n",
    "        'is_awesome': 0,\n",
    "        'was_cool': 0,\n",
    "        'is_alive': 0\n",
    "    },\n",
    "    {\n",
    "        'is_awesome': 1,\n",
    "        'was_cool': 1,\n",
    "        'is_alive': 1\n",
    "    },\n",
    "    {\n",
    "        'is_awesome': 0,\n",
    "        'was_cool': 0,\n",
    "        'is_alive': 1\n",
    "    },\n",
    "    {\n",
    "        'is_awesome': 0,\n",
    "        'was_cool': 1,\n",
    "        'is_alive': 0\n",
    "    }\n",
    "]\n",
    "\n",
    "print(process('is_awesome', ['was_cool', 'is_alive'], raw_data))\n"
   ]
  }
 ],
 "metadata": {
  "kernelspec": {
   "display_name": "Python 3 (ipykernel)",
   "language": "python",
   "name": "python3"
  },
  "language_info": {
   "codemirror_mode": {
    "name": "ipython",
    "version": 3
   },
   "file_extension": ".py",
   "mimetype": "text/x-python",
   "name": "python",
   "nbconvert_exporter": "python",
   "pygments_lexer": "ipython3",
   "version": "3.9.12"
  }
 },
 "nbformat": 4,
 "nbformat_minor": 5
}
