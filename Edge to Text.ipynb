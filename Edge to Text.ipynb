{
 "cells": [
  {
   "cell_type": "code",
   "execution_count": 4,
   "id": "87b859fd",
   "metadata": {},
   "outputs": [],
   "source": [
    "import pandas as pd\n",
    "\n",
    "# Load the edge list into a DataFrame\n",
    "data = pd.read_excel('Economic_edge list.xlsx', sheet_name='Sheet2')\n",
    "#edge_list = pd.read_csv('Politics_edge list.xlsx')  # Replace 'reddit_edge_list.csv' with your actual file name\n",
    "\n",
    "# Combine the text data from posts, comments, and replies into a single column\n",
    "text_data = pd.concat([data['body'], data['post_title'], data['post_content']], ignore_index=True)\n",
    "\n",
    "# Save the combined text data to a text file\n",
    "text_data.to_csv('reddit_combined_text_economic.txt', index=False, header=False, sep='\\n')\n"
   ]
  },
  {
   "cell_type": "code",
   "execution_count": 5,
   "id": "e6206bc1",
   "metadata": {},
   "outputs": [],
   "source": [
    "# Open the file in read mode\n",
    "with open('reddit_combined_text_economic.txt', 'r') as file:\n",
    "    content = file.read()\n",
    "\n",
    "# Replace the character â€™ with '\n",
    "content = content.replace('â€™', \"'\")\n",
    "\n",
    "# Open the file in write mode and write the modified content\n",
    "with open('reddit_combined_text_economic.txt', 'w') as file:\n",
    "    file.write(content)\n"
   ]
  },
  {
   "cell_type": "code",
   "execution_count": 6,
   "id": "863d40d0",
   "metadata": {},
   "outputs": [],
   "source": [
    "# Open the file in read mode\n",
    "with open('reddit_combined_text_economic.txt', 'r') as file:\n",
    "    content = file.read()\n",
    "\n",
    "# Replace the misinterpreted characters with double quotation marks\n",
    "content = content.replace(\"â€\", '\"')\n",
    "content = content.replace(\"â€œ\", '\"')\n",
    "\n",
    "# Open the file in write mode and write the corrected content\n",
    "with open('reddit_combined_text_economic.txt', 'w') as file:\n",
    "    file.write(content)\n"
   ]
  },
  {
   "cell_type": "code",
   "execution_count": 13,
   "id": "2939b2b5",
   "metadata": {},
   "outputs": [
    {
     "name": "stderr",
     "output_type": "stream",
     "text": [
      "[nltk_data] Downloading package omw-1.4 to /home/jovyan/nltk_data...\n",
      "[nltk_data]   Package omw-1.4 is already up-to-date!\n"
     ]
    },
    {
     "data": {
      "text/plain": [
       "True"
      ]
     },
     "execution_count": 13,
     "metadata": {},
     "output_type": "execute_result"
    }
   ],
   "source": [
    "import nltk\n",
    "nltk.download('omw-1.4')"
   ]
  },
  {
   "cell_type": "code",
   "execution_count": 14,
   "id": "089c5bd0",
   "metadata": {},
   "outputs": [],
   "source": [
    "import re\n",
    "from nltk.corpus import stopwords\n",
    "from nltk.stem import WordNetLemmatizer"
   ]
  },
  {
   "cell_type": "code",
   "execution_count": 15,
   "id": "afc5e0f3",
   "metadata": {},
   "outputs": [],
   "source": [
    "# Initialize the WordNetLemmatizer\n",
    "lemmatizer = WordNetLemmatizer()"
   ]
  },
  {
   "cell_type": "code",
   "execution_count": 16,
   "id": "3aee2b14",
   "metadata": {},
   "outputs": [],
   "source": [
    "import re\n",
    "from nltk.corpus import stopwords\n",
    "from nltk.stem import WordNetLemmatizer\n",
    "\n",
    "file_path = 'reddit_combined_text_economic.txt'  # Replace with the path to your text file\n",
    "\n",
    "# Initialize the WordNetLemmatizer\n",
    "lemmatizer = WordNetLemmatizer()\n",
    "\n",
    "# Read the contents of the file\n",
    "with open(file_path, 'r') as file:\n",
    "    text = file.read()\n",
    "\n",
    "# Convert the text to lowercase\n",
    "text_lower = text.lower()\n",
    "\n",
    "# Remove links or URLs\n",
    "text_no_links = re.sub(r'http\\S+|www\\S+', '', text_lower)\n",
    "\n",
    "# Remove special characters using regular expressions\n",
    "text_cleaned = re.sub(r'[^a-zA-Z0-9\\s]', '', text_no_links)\n",
    "\n",
    "# Tokenize the text into individual words\n",
    "words = text_cleaned.split()\n",
    "\n",
    "# Filter out stop words\n",
    "stop_words = set(stopwords.words('english'))\n",
    "words_filtered = [word for word in words if word not in stop_words]\n",
    "\n",
    "# Apply lemmatization to the filtered words\n",
    "words_lemmatized = [lemmatizer.lemmatize(word) for word in words_filtered]\n",
    "\n",
    "# Join the lemmatized words back into a single string\n",
    "text_processed = ' '.join(words_lemmatized)\n",
    "\n",
    "# Write the processed text back to the file\n",
    "with open(file_path, 'w') as file:\n",
    "    file.write(text_processed)\n"
   ]
  },
  {
   "cell_type": "code",
   "execution_count": null,
   "id": "79d76245",
   "metadata": {},
   "outputs": [],
   "source": []
  }
 ],
 "metadata": {
  "kernelspec": {
   "display_name": "Python 3 (ipykernel)",
   "language": "python",
   "name": "python3"
  },
  "language_info": {
   "codemirror_mode": {
    "name": "ipython",
    "version": 3
   },
   "file_extension": ".py",
   "mimetype": "text/x-python",
   "name": "python",
   "nbconvert_exporter": "python",
   "pygments_lexer": "ipython3",
   "version": "3.9.12"
  }
 },
 "nbformat": 4,
 "nbformat_minor": 5
}
