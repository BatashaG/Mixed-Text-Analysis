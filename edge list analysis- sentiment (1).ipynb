{
 "cells": [
  {
   "cell_type": "code",
   "execution_count": null,
   "id": "a1c71be5",
   "metadata": {},
   "outputs": [],
   "source": [
    "pip install textblob"
   ]
  },
  {
   "cell_type": "code",
   "execution_count": null,
   "id": "0bd42654",
   "metadata": {},
   "outputs": [],
   "source": [
    "import pandas as pd\n",
    "from textblob import TextBlob"
   ]
  },
  {
   "cell_type": "code",
   "execution_count": null,
   "id": "1de9f643",
   "metadata": {},
   "outputs": [],
   "source": [
    "df = pd.read_csv('edge_list.csv')\n",
    "df.head()"
   ]
  },
  {
   "cell_type": "code",
   "execution_count": null,
   "id": "b0b6b303",
   "metadata": {},
   "outputs": [],
   "source": [
    "# Define a function to calculate sentiment score using TextBlob\n",
    "def get_sentiment(body):\n",
    "    # Create a TextBlob object from the input text (body)\n",
    "    blob = TextBlob(body)\n",
    "    \n",
    "    # Calculate the polarity of the sentiment (range from -1 to 1)\n",
    "    sentiment = blob.sentiment.polarity\n",
    "    \n",
    "    # Return the calculated sentiment score\n",
    "    return sentiment\n",
    "\n",
    "# Apply the get_sentiment function to the 'body' column of the DataFrame and create a new column 'sentiment_score'\n",
    "df['sentiment_score'] = df['body'].apply(get_sentiment)\n"
   ]
  },
  {
   "cell_type": "code",
   "execution_count": null,
   "id": "aa9915ae",
   "metadata": {},
   "outputs": [],
   "source": [
    "score_stats = df['score'].describe()\n",
    "sentiment_stats = df['sentiment_score'].describe()\n",
    "\n",
    "# Print the summary statistics for 'score'\n",
    "print(\"Score Statistics:\")\n",
    "print(score_stats)\n",
    "\n",
    "# Print the summary statistics for 'sentiment'\n",
    "print(\"\\nSentiment Statistics:\")\n",
    "print(sentiment_stats)"
   ]
  },
  {
   "cell_type": "code",
   "execution_count": null,
   "id": "b2c0e3a9",
   "metadata": {},
   "outputs": [],
   "source": [
    "correlation = df['score'].corr(df['sentiment_score'])\n",
    "\n",
    "# Print the correlation coefficient\n",
    "print(\"Correlation coefficient:\", correlation)"
   ]
  },
  {
   "cell_type": "code",
   "execution_count": null,
   "id": "46ac30ad",
   "metadata": {},
   "outputs": [],
   "source": [
    "import matplotlib.pyplot as plt\n",
    "\n",
    "# Assuming your DataFrame is named 'df' with columns 'score' and 'sentiment'\n",
    "x = df['score']\n",
    "y = df['sentiment_score']\n",
    "\n",
    "# Plot the scatter plot\n",
    "plt.scatter(x, y)\n",
    "plt.xlabel('Score')\n",
    "plt.ylabel('Sentiment')\n",
    "plt.title('Relationship between Score and Sentiment')\n",
    "plt.show()\n"
   ]
  },
  {
   "cell_type": "code",
   "execution_count": null,
   "id": "6dba3b10",
   "metadata": {},
   "outputs": [],
   "source": [
    "import pandas as pd\n",
    "import matplotlib.pyplot as plt\n",
    "\n",
    "# Convert 'topics' column values to strings\n",
    "df['topics'] = df['topics'].astype(str)\n",
    "\n",
    "# Group the data by 'topics' and calculate average score and sentiment\n",
    "grouped_data = df.groupby('topics').agg({'score': 'mean', 'sentiment_score': 'mean'}).reset_index()\n",
    "\n",
    "# Visualize average scores for different topics using a bar plot\n",
    "plt.figure(figsize=(12, 6))\n",
    "plt.bar(grouped_data['topics'], grouped_data['score'])\n",
    "plt.xlabel('Topic')\n",
    "plt.ylabel('Average Score')\n",
    "plt.title('Average Score by Topic')\n",
    "plt.xticks(rotation=90)\n",
    "plt.show()\n",
    "\n",
    "# Visualize average sentiments for different topics using a bar plot\n",
    "plt.figure(figsize=(12, 6))\n",
    "plt.bar(grouped_data['topics'], grouped_data['sentiment_score'])\n",
    "plt.xlabel('Topic')\n",
    "plt.ylabel('Average Sentiment')\n",
    "plt.title('Average Sentiment by Topic')\n",
    "plt.xticks(rotation=90)\n",
    "plt.show()\n"
   ]
  },
  {
   "cell_type": "code",
   "execution_count": null,
   "id": "c194724d",
   "metadata": {},
   "outputs": [],
   "source": [
    "unique_topics = df['topics'].unique()\n",
    "unique_topics"
   ]
  },
  {
   "cell_type": "code",
   "execution_count": null,
   "id": "35f4970d",
   "metadata": {},
   "outputs": [],
   "source": [
    "import numpy as np\n",
    "from scipy.stats import ttest_ind, f_oneway\n",
    "\n",
    "# Select the data for each topic\n",
    "topic1_scores = df[np.isin(df['topics'], ['topic1','topic2','topic3'])]['score']\n",
    "topic2_scores = df[np.isin(df['topics'], ['topic1','topic2','topic3'])]['score']"
   ]
  },
  {
   "cell_type": "code",
   "execution_count": null,
   "id": "90a42b64",
   "metadata": {},
   "outputs": [],
   "source": [
    "# T-Test\n",
    "t_statistic, p_value = ttest_ind(topic1_scores, topic2_scores)\n",
    "\n",
    "# ANOVA\n",
    "f_statistic, p_value = f_oneway(topic1_scores, topic2_scores)\n"
   ]
  },
  {
   "cell_type": "code",
   "execution_count": null,
   "id": "7b7ab0f9",
   "metadata": {},
   "outputs": [],
   "source": [
    "if p_value < 0.05:\n",
    "    print(\"There is a significant difference between the topics.\")\n",
    "else:\n",
    "    print(\"There is no significant difference between the topics.\")"
   ]
  },
  {
   "cell_type": "code",
   "execution_count": null,
   "id": "fbcd58d9",
   "metadata": {},
   "outputs": [],
   "source": [
    "import numpy as np\n",
    "from scipy.stats import ttest_ind\n",
    "\n",
    "# List of unique topics\n",
    "topics = df['topics'].unique()\n",
    "\n",
    "# Empty list to store significantly different topic pairs\n",
    "significant_topics = []\n",
    "\n",
    "# Iterate through each topic pair\n",
    "for i in range(len(topics)):\n",
    "    for j in range(i+1, len(topics)):\n",
    "        # Select the scores for the two topics\n",
    "        topic1_scores = df[df['topics'] == topics[i]]['score']\n",
    "        topic2_scores = df[df['topics'] == topics[j]]['score']\n",
    "        \n",
    "        # Perform t-test\n",
    "        t_statistic, p_value = ttest_ind(topic1_scores, topic2_scores)\n",
    "        \n",
    "        # Check if p-value is less than significance level (e.g., 0.05)\n",
    "        if p_value < 0.05:\n",
    "            significant_topics.append((topics[i], topics[j]))\n",
    "            \n",
    "# Print the significantly different topic pairs\n",
    "for pair in significant_topics:\n",
    "    print(f\"There is a significant difference between topics: {pair[0]} and {pair[1]}\")\n"
   ]
  }
 ],
 "metadata": {
  "kernelspec": {
   "display_name": "Python 3 (ipykernel)",
   "language": "python",
   "name": "python3"
  },
  "language_info": {
   "codemirror_mode": {
    "name": "ipython",
    "version": 3
   },
   "file_extension": ".py",
   "mimetype": "text/x-python",
   "name": "python",
   "nbconvert_exporter": "python",
   "pygments_lexer": "ipython3",
   "version": "3.9.12"
  }
 },
 "nbformat": 4,
 "nbformat_minor": 5
}
