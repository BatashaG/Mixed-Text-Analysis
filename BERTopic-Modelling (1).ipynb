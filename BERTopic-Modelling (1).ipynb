{
 "cells": [
  {
   "cell_type": "code",
   "execution_count": null,
   "id": "9e75f0a8",
   "metadata": {},
   "outputs": [],
   "source": [
    "pip install bertopic"
   ]
  },
  {
   "cell_type": "code",
   "execution_count": null,
   "id": "a33f1056",
   "metadata": {},
   "outputs": [],
   "source": [
    "import pandas as pd\n",
    "import csv"
   ]
  },
  {
   "cell_type": "code",
   "execution_count": null,
   "id": "fc1448e9",
   "metadata": {},
   "outputs": [],
   "source": [
    "# Import necessary libraries\n",
    "from bertopic import BERTopic\n",
    "from bertopic.representation import KeyBERTInspired"
   ]
  },
  {
   "cell_type": "code",
   "execution_count": null,
   "id": "5394cd18",
   "metadata": {},
   "outputs": [],
   "source": [
    "# Read the CSV file into a DataFrame\n",
    "df = pd.read_csv('edge_list')"
   ]
  },
  {
   "cell_type": "code",
   "execution_count": null,
   "id": "68c0442e",
   "metadata": {},
   "outputs": [],
   "source": [
    "# Define a function to convert a DataFrame to a list of dictionaries\n",
    "def dataframe_to_dict_list(df, column1, column2, column3, column4):\n",
    "    dict_list = []\n",
    "    for index, row in df.iterrows():\n",
    "        # Create a dictionary for each row using specified column names as keys\n",
    "        item_dict = {column1: row[column1], column2: row[column2], column3: row[column3], column4: row[column4] }\n",
    "        # Append the dictionary to the list\n",
    "        dict_list.append(item_dict)\n",
    "    # Return the list of dictionaries\n",
    "    return dict_list\n",
    "\n",
    "# Call the function to convert your DataFrame to a list of dictionaries\n",
    "# Replace 'df', 'body', 'post_title', 'post_content', and 'edge_list' with actual column names\n",
    "data = dataframe_to_dict_list(df, 'body', 'post_title', 'post_content', 'edge_list')\n"
   ]
  },
  {
   "cell_type": "code",
   "execution_count": null,
   "id": "a5c96546",
   "metadata": {},
   "outputs": [],
   "source": [
    "def extract_topics(data):\n",
    "    # Extract the 'body' from each data dictionary to create a corpus\n",
    "    corpus = [str(d['body']) for d in data]\n",
    "    corpus = list(set(corpus))  # Remove duplicates from the corpus\n",
    "\n",
    "    # Create a KeyBERT-inspired representation model\n",
    "    representation_model = KeyBERTInspired()\n",
    "\n",
    "    # Create a BERTopic model and fit it to the corpus\n",
    "    topic_model = BERTopic(representation_model=representation_model)\n",
    "    topics, probs = topic_model.fit_transform(corpus)\n",
    "\n",
    "    # Get topic and document information\n",
    "    topic_info = topic_model.get_topic_info()\n",
    "    doc_info = topic_model.get_document_info(corpus)\n",
    "\n",
    "    # Join topic and document information using the 'Topic' column\n",
    "    joined_df = doc_info.join(topic_info, on='Topic', rsuffix='_t')\n",
    "\n",
    "    # Create a DataFrame from the original data\n",
    "    source_df = pd.DataFrame(data)\n",
    "\n",
    "    # Merge the original data with the joined DataFrame on the 'body' column\n",
    "    combined_df = pd.merge(source_df, joined_df, left_on='body', right_on='Document')\n",
    "\n",
    "    # Select relevant columns and rename 'Representation' to 'topics'\n",
    "    output = combined_df[combined_df['Topic'] > -1][['body', 'post_title', 'post_content', 'edge_list', 'Representation']]\n",
    "    output = output.rename(columns={'Representation': 'topics'})\n",
    "\n",
    "    # Convert the output DataFrame to a list of records (dictionaries)\n",
    "    return output.to_dict('records')\n",
    "\n",
    "output = extract_topics(data)"
   ]
  },
  {
   "cell_type": "code",
   "execution_count": null,
   "id": "0bb04382",
   "metadata": {},
   "outputs": [],
   "source": [
    "df = pd.DataFrame(output)\n",
    "df.to_csv('topics.csv', index=False)"
   ]
  }
 ],
 "metadata": {
  "kernelspec": {
   "display_name": "Python 3 (ipykernel)",
   "language": "python",
   "name": "python3"
  },
  "language_info": {
   "codemirror_mode": {
    "name": "ipython",
    "version": 3
   },
   "file_extension": ".py",
   "mimetype": "text/x-python",
   "name": "python",
   "nbconvert_exporter": "python",
   "pygments_lexer": "ipython3",
   "version": "3.9.12"
  }
 },
 "nbformat": 4,
 "nbformat_minor": 5
}
