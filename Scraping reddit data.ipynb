{
 "cells": [
  {
   "cell_type": "code",
   "execution_count": null,
   "id": "6f7db017",
   "metadata": {},
   "outputs": [],
   "source": [
    "# Install required libraries\n",
    "!pip install praw"
   ]
  },
  {
   "cell_type": "code",
   "execution_count": null,
   "id": "9bfa7c5d",
   "metadata": {},
   "outputs": [],
   "source": [
    "import praw\n",
    "import pandas as pd\n",
    "import nltk\n",
    "nltk.download('vader_lexicon')\n",
    "from nltk.sentiment import SentimentIntensityAnalyzer\n",
    "import operator"
   ]
  },
  {
   "cell_type": "code",
   "execution_count": null,
   "id": "809da4c3",
   "metadata": {},
   "outputs": [],
   "source": [
    "# Initialize Reddit API\n",
    "reddit = praw.Reddit(\n",
    "    client_id=\"INFO HERE\",\n",
    "    client_secret=\"INFO HERE\",\n",
    "    user_agent=\"INFO HERE\"\n",
    ")\n",
    "\n",
    "# Function to create an expanded list of comments for a submission\n",
    "def create_expand_comments_list(submission):\n",
    "    submission.comments.replace_more(limit=None)\n",
    "    return comment_list_to_edge_list(submission.comments.list(), submission.author)\n",
    "\n",
    "# Function to create an edge list for a subreddit\n",
    "def create_edge_list_for_subreddit(subreddit, list_type, limit):\n",
    "    subr = reddit.subreddit(subreddit)\n",
    "    if not hasattr(subr, list_type):\n",
    "        raise Exception(\"what are you trying to do :(\")\n",
    "    listed = getattr(subr, list_type)(limit=limit)\n",
    "    output = pd.concat([create_expand_comments_list(s) for s in listed])\n",
    "    return output\n",
    "\n",
    "# Function to get comments for a submission\n",
    "def get_submission_comments(submission_id):\n",
    "    submission = reddit.submission(submission_id)\n",
    "    submission.comments.replace_more(limit=None)\n",
    "    all_comments = submission.comments.list()\n",
    "    df = pd.DataFrame([vars(comment) for comment in all_comments])\n",
    "    df['post_title'] = submission.title\n",
    "    df['post_content'] = submission.selftext\n",
    "    df['post_author_id'] = submission.author.id\n",
    "    df['post_author_name'] = submission.author.name\n",
    "    df['subreddit'] = submission.subreddit.display_name\n",
    "    df[\"parent_id\"] = df[\"parent_id\"].apply(lambda row: row[3:])\n",
    "    df = df.set_index(\"id\")\n",
    "    df_joined = df.join(df, on = \"parent_id\", rsuffix = \"_parent\")\n",
    "    return df_joined\n",
    "\n",
    "\n",
    "def to_edge_list(df, use_post_parent, extra_fields = []):\n",
    "    edge_list = df.copy()\n",
    "    if use_post_parent:\n",
    "        edge_list[\"author_parent_fixed\"] = edge_list[\"author_parent\"].fillna(edge_list[\"post_author_name\"])\n",
    "    else:\n",
    "        edge_list[\"author_parent_fixed\"] = edge_list[\"author_parent\"].dropna()\n",
    "    edge_list = edge_list[[\"author\", \"author_parent_fixed\"] + extra_fields]\n",
    "    edge_list = edge_list.rename(columns = {'author': 'Source', 'author_parent_fixed': 'Target'})\n",
    "    return edge_list\n",
    "\n",
    "def get_submissions_comments(ids):\n",
    "    return pd.concat([get_submission_comments(i) for i in ids])\n",
    "\n",
    "\n",
    "# Function that builds the edge list structure for the comment chain.\n",
    "def to_comment_edge_list(df, use_post_parent, extra_fields = []):\n",
    "    edge_list = df.copy()\n",
    "    edge_list = edge_list[[\"id\", \"parent_id\"] + extra_fields]\n",
    "    edge_list = edge_list.rename(columns = {'id': 'Source', 'parent_id': 'Target'})\n",
    "    return edge_list\n",
    "# Function that builds the node list structure for the comment chain.\n",
    "def to_comment_node_list(df, extra_fields = []):\n",
    "    node_list = df.copy()\n",
    "    node_list = node_list[[\"id\", \"author\"] + extra_fields]\n",
    "    node_list['author'] = node_list['author'].fillna('DELETED')\n",
    "    node_list = node_list.rename(columns = {'id': 'Id', 'author': 'Label'})\n",
    "    return node_list"
   ]
  },
  {
   "cell_type": "code",
   "execution_count": null,
   "id": "9967d66a",
   "metadata": {},
   "outputs": [],
   "source": [
    "data = get_submissions_comments([\"reddit post id\"])\n",
    "df = data[[\"author\", \"parent_id\", \"author_parent\", \"post_author_id\", \"post_author_name\", \"score\", \"body\", \"post_title\", \"post_content\", \"subreddit\"]]\n",
    "\n",
    "\n",
    "# Create the data output.\n",
    "output_gephy_edge = to_comment_edge_list(df, True)\n",
    "output_gephy_edge.dropna().to_csv('gephy_comment_edge_all_mention.csv', index=False)\n",
    "output_gephy_node = to_comment_node_list(df)\n",
    "output_gephy_node.dropna().to_csv('gephy_comment_node_all_mention.csv', index=False)\n"
   ]
  }
 ],
 "metadata": {
  "kernelspec": {
   "display_name": "Python 3 (ipykernel)",
   "language": "python",
   "name": "python3"
  },
  "language_info": {
   "codemirror_mode": {
    "name": "ipython",
    "version": 3
   },
   "file_extension": ".py",
   "mimetype": "text/x-python",
   "name": "python",
   "nbconvert_exporter": "python",
   "pygments_lexer": "ipython3",
   "version": "3.9.12"
  }
 },
 "nbformat": 4,
 "nbformat_minor": 5
}
