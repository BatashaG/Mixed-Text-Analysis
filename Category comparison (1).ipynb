{
 "cells": [
  {
   "cell_type": "code",
   "execution_count": null,
   "id": "a1c71be5",
   "metadata": {},
   "outputs": [],
   "source": [
    "pip install textblob"
   ]
  },
  {
   "cell_type": "code",
   "execution_count": null,
   "id": "0bd42654",
   "metadata": {},
   "outputs": [],
   "source": [
    "import pandas as pd\n",
    "from textblob import TextBlob"
   ]
  },
  {
   "cell_type": "code",
   "execution_count": null,
   "id": "62a8bbae",
   "metadata": {},
   "outputs": [],
   "source": [
    "# Read the CSV file into a DataFrame\n",
    "df1 = pd.read_csv('Science_edge.csv')\n",
    "\n",
    "df2 = pd.read_csv('Politics_edge.csv')\n"
   ]
  },
  {
   "cell_type": "code",
   "execution_count": null,
   "id": "8e9f1bf0",
   "metadata": {},
   "outputs": [],
   "source": [
    "# Add an edge list identifier column\n",
    "df1['edge_list'] = 'science'\n",
    "df2['edge_list'] = 'politics'"
   ]
  },
  {
   "cell_type": "code",
   "execution_count": null,
   "id": "911397b4",
   "metadata": {},
   "outputs": [],
   "source": [
    "# Merge dataframes\n",
    "merged_df = pd.concat([df1,df2])"
   ]
  },
  {
   "cell_type": "code",
   "execution_count": null,
   "id": "8d63d60f",
   "metadata": {},
   "outputs": [],
   "source": [
    "\n",
    "# Filter edge list 1\n",
    "df_edge_list1 = merged_df[merged_df['edge_list'] == 'science']\n",
    "\n",
    "# Filter edge list 2\n",
    "df_edge_list2 = merged_df[merged_df['edge_list'] == 'politics']\n",
    "\n",
    "# Group by 'topics' for edge list 1\n",
    "grouped_topics1 = df_edge_list1.groupby('topic_title')\n",
    "\n",
    "# Group by 'topics' for edge list 2\n",
    "grouped_topics2 = df_edge_list2.groupby('topic_title')\n",
    "\n",
    "# Calculate the average sentiment scores for each topic in edge list 1\n",
    "average_sentiment1 = grouped_topics1['sentiment_score'].mean()\n",
    "\n",
    "# Calculate the average sentiment scores for each topic in edge list 2\n",
    "average_sentiment2 = grouped_topics2['sentiment_score'].mean()\n",
    "\n",
    "# Compare the average sentiment scores of each topic\n",
    "comparison = pd.concat([average_sentiment1, average_sentiment2], axis=1)\n",
    "comparison.columns = ['Average Sentiment Score (Edge List 1)', 'Average Sentiment Score (Edge List 2)']\n",
    "\n",
    "# Print the comparison\n",
    "print(comparison)"
   ]
  },
  {
   "cell_type": "code",
   "execution_count": null,
   "id": "b7ce6c43",
   "metadata": {},
   "outputs": [],
   "source": [
    "# Print all topics in the order of variance in sentiment\n",
    "print(comparison.index)\n"
   ]
  },
  {
   "cell_type": "code",
   "execution_count": null,
   "id": "60550058",
   "metadata": {},
   "outputs": [],
   "source": [
    "import matplotlib.pyplot as plt"
   ]
  },
  {
   "cell_type": "code",
   "execution_count": null,
   "id": "42938a71",
   "metadata": {},
   "outputs": [],
   "source": [
    "# Plot the comparison DataFrame as a bar plot with specified figure size\n",
    "comparison.plot(kind='bar', figsize=(10, 6))\n",
    "\n",
    "# Set the title of the plot\n",
    "plt.title('Comparison of Average Sentiment Scores')\n",
    "\n",
    "# Set the label for the x-axis\n",
    "plt.xlabel('topic_title')\n",
    "\n",
    "# Set the label for the y-axis\n",
    "plt.ylabel('Average Sentiment Score')\n",
    "\n",
    "# Rotate the x-axis labels for better readability\n",
    "plt.xticks(rotation=45)\n",
    "\n",
    "# Add a legend to the plot\n",
    "plt.legend()\n",
    "\n",
    "# Adjust the layout for better spacing\n",
    "plt.tight_layout()\n",
    "\n",
    "# Save the plot as an image file with high DPI (dots per inch)\n",
    "plt.savefig('figure.png', dpi=300)\n",
    "\n",
    "# Display the plot\n",
    "plt.show()\n"
   ]
  },
  {
   "cell_type": "code",
   "execution_count": null,
   "id": "8e8de737",
   "metadata": {},
   "outputs": [],
   "source": [
    "# Sort by sentiment difference in descending order\n",
    "comparison = comparison.sort_values('Sentiment Difference', ascending=False)\n",
    "\n",
    "# Select the top N topics with the largest sentiment difference\n",
    "N = 20  # Change the number 10 to your desired value\n",
    "top_topics = comparison.head(N)\n",
    "\n",
    "# Plot the comparison for the top topics\n",
    "top_topics.plot(kind='bar', y=['Average Sentiment Score (Science)', 'Average Sentiment Score (Politics)'], figsize=(10, 6))\n",
    "plt.title('Comparison of Average Sentiment Scores')\n",
    "plt.xlabel('Topics')\n",
    "plt.ylabel('Average Sentiment Score')\n",
    "plt.xticks(rotation=45)\n",
    "plt.legend()\n",
    "plt.tight_layout()\n",
    "plt.show()\n"
   ]
  },
  {
   "cell_type": "code",
   "execution_count": null,
   "id": "fdddf3b7",
   "metadata": {},
   "outputs": [],
   "source": [
    "# Merge the two grouped DataFrames\n",
    "comparison = pd.merge(grouped_topics1, grouped_topics2, on='repeated_word', how='outer')\n",
    "comparison.columns = ['Average Sentiment Score (Science)', 'Average Sentiment Score (Politics)']\n",
    "\n",
    "# Calculate the absolute difference in sentiment scores\n",
    "comparison['Sentiment Difference'] = abs(comparison['Average Sentiment Score (Science)'] - comparison['Average Sentiment Score (Politics)'])\n",
    "\n",
    "# Sort by sentiment difference in descending order\n",
    "comparison = comparison.sort_values('Sentiment Difference', ascending=False)\n",
    "\n",
    "# Select the top N repeated words with the largest\n",
    "\n",
    "N = 20  \n",
    "top_repeated_words = comparison.head(N)\n",
    "\n",
    "# Plot the comparison\n",
    "top_repeated_words.plot(kind='bar', y=['Average Sentiment Score (Science)', 'Average Sentiment Score (Politics)'], figsize=(10, 6))\n",
    "plt.title('Comparison of Average Sentiment Scores (Science vs Politics)')\n",
    "plt.xlabel('Repeated Words')\n",
    "plt.ylabel('Average Sentiment Score')\n",
    "plt.xticks(rotation=45)\n",
    "plt.legend()\n",
    "plt.tight_layout()\n",
    "plt.savefig('figure.png',dpi=300)\n",
    "plt.show()"
   ]
  }
 ],
 "metadata": {
  "kernelspec": {
   "display_name": "Python 3 (ipykernel)",
   "language": "python",
   "name": "python3"
  },
  "language_info": {
   "codemirror_mode": {
    "name": "ipython",
    "version": 3
   },
   "file_extension": ".py",
   "mimetype": "text/x-python",
   "name": "python",
   "nbconvert_exporter": "python",
   "pygments_lexer": "ipython3",
   "version": "3.9.12"
  }
 },
 "nbformat": 4,
 "nbformat_minor": 5
}
