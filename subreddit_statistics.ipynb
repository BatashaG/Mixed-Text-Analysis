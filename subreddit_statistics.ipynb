{
 "cells": [
  {
   "cell_type": "code",
   "execution_count": null,
   "id": "1f2328a2",
   "metadata": {},
   "outputs": [],
   "source": [
    "pip install scikit-learn"
   ]
  },
  {
   "cell_type": "code",
   "execution_count": null,
   "id": "3ecd5d25",
   "metadata": {},
   "outputs": [],
   "source": [
    "pip install textblob"
   ]
  },
  {
   "cell_type": "code",
   "execution_count": null,
   "id": "e5932f8a",
   "metadata": {},
   "outputs": [],
   "source": [
    "pip install --upgrade hatesonar"
   ]
  },
  {
   "cell_type": "code",
   "execution_count": null,
   "id": "cba79b13",
   "metadata": {},
   "outputs": [],
   "source": [
    "import pandas as pd\n",
    "from hatesonar import Sonar\n",
    "\n",
    "data = pd.read_csv(\"edge_list.csv\")\n",
    "\n",
    "# Create a Sonar object\n",
    "sonar = Sonar()\n",
    "\n",
    "# Define a function to detect hate speech in a text\n",
    "def detect_hate(row):\n",
    "    result = sonar.ping(row['body'])\n",
    "    return result\n",
    "\n",
    "# Apply the function to each row in the DataFrame\n",
    "df['hate_detection'] = df.apply(detect_hate, axis=1)\n",
    "\n",
    "# Print the updated DataFrame\n",
    "print(df)\n"
   ]
  },
  {
   "cell_type": "code",
   "execution_count": null,
   "id": "66d822ef",
   "metadata": {},
   "outputs": [],
   "source": [
    "from textblob import TextBlob"
   ]
  },
  {
   "cell_type": "code",
   "execution_count": null,
   "id": "e271ad03",
   "metadata": {},
   "outputs": [],
   "source": [
    "# Define a function to perform sentiment analysis\n",
    "def analyze_sentiment(row):\n",
    "    blob = TextBlob(row['body'])\n",
    "    sentiment = blob.sentiment\n",
    "    return sentiment\n",
    "\n",
    "# Apply the function to each row in the DataFrame\n",
    "df['sentiment'] = df.apply(analyze_sentiment, axis=1)"
   ]
  },
  {
   "cell_type": "code",
   "execution_count": null,
   "id": "c0235b6a",
   "metadata": {},
   "outputs": [],
   "source": [
    "# Define a function to calculate hate speech percentage\n",
    "def calculate_hate_speech_percentage(row):\n",
    "    result = sonar.ping(text=row['body'])\n",
    "    hate_speech_percentage = result['classes'][0]['confidence']\n",
    "    return hate_speech_percentage\n",
    "\n",
    "# Define a function to calculate positive sentiment percentage\n",
    "def calculate_positive_sentiment_percentage(row):\n",
    "    blob = TextBlob(row['body'])\n",
    "    sentiment = blob.sentiment.polarity\n",
    "    return sentiment if sentiment > 0 else 0\n",
    "\n",
    "# Apply the functions to calculate percentages\n",
    "df['hate_speech_percentage'] = df.apply(calculate_hate_speech_percentage, axis=1)\n",
    "df['positive_sentiment_percentage'] = df.apply(calculate_positive_sentiment_percentage, axis=1)\n",
    "\n",
    "# Group by 'subreddit' and calculate average percentages\n",
    "subreddit_stats = df.groupby('subreddit').agg({\n",
    "    'hate_speech_percentage': 'mean',\n",
    "    'positive_sentiment_percentage': 'mean'\n",
    "}).reset_index()\n",
    "\n",
    "# Print the subreddit statistics\n",
    "print(subreddit_stats)"
   ]
  }
 ],
 "metadata": {
  "kernelspec": {
   "display_name": "Python 3 (ipykernel)",
   "language": "python",
   "name": "python3"
  },
  "language_info": {
   "codemirror_mode": {
    "name": "ipython",
    "version": 3
   },
   "file_extension": ".py",
   "mimetype": "text/x-python",
   "name": "python",
   "nbconvert_exporter": "python",
   "pygments_lexer": "ipython3",
   "version": "3.9.12"
  }
 },
 "nbformat": 4,
 "nbformat_minor": 5
}
