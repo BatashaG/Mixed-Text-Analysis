{
 "cells": [
  {
   "cell_type": "code",
   "execution_count": null,
   "id": "97884dae",
   "metadata": {},
   "outputs": [],
   "source": [
    "import nltk\n",
    "nltk.download('wordnet')"
   ]
  },
  {
   "cell_type": "code",
   "execution_count": null,
   "id": "ee2e08cc",
   "metadata": {},
   "outputs": [],
   "source": [
    "import pandas as pd"
   ]
  },
  {
   "cell_type": "code",
   "execution_count": null,
   "id": "5d648e9e",
   "metadata": {},
   "outputs": [],
   "source": [
    "import nltk\n",
    "nltk.download('averaged_perceptron_tagger')\n",
    "nltk.download('wordnet')  # Download the WordNet corpus\n",
    "\n",
    "from nltk.stem import WordNetLemmatizer\n",
    "from nltk.corpus import wordnet\n",
    "\n",
    "# Create an instance of the WordNetLemmatizer\n",
    "lemmatizer = WordNetLemmatizer()"
   ]
  },
  {
   "cell_type": "code",
   "execution_count": null,
   "id": "41fafa45",
   "metadata": {},
   "outputs": [],
   "source": [
    "pip install spacy"
   ]
  },
  {
   "cell_type": "code",
   "execution_count": null,
   "id": "c43f757c",
   "metadata": {},
   "outputs": [],
   "source": [
    "!python -m spacy download en"
   ]
  },
  {
   "cell_type": "code",
   "execution_count": null,
   "id": "1d7c040a",
   "metadata": {
    "scrolled": true
   },
   "outputs": [],
   "source": [
    "!python -m spacy download en_core_web_sm"
   ]
  },
  {
   "cell_type": "code",
   "execution_count": null,
   "id": "49e4ce06",
   "metadata": {},
   "outputs": [],
   "source": [
    "import spacy\n",
    "\n",
    "# Load the English language model\n",
    "nlp = spacy.load('en_core_web_sm')"
   ]
  },
  {
   "cell_type": "code",
   "execution_count": null,
   "id": "444c4046",
   "metadata": {},
   "outputs": [],
   "source": [
    "df = pd.read_csv('edge_list.csv')\n",
    "df.head()"
   ]
  },
  {
   "cell_type": "code",
   "execution_count": null,
   "id": "88963de6",
   "metadata": {},
   "outputs": [],
   "source": [
    "unique_topics = df['topics'].unique()\n",
    "print(unique_topics)"
   ]
  },
  {
   "cell_type": "code",
   "execution_count": null,
   "id": "7982d270",
   "metadata": {},
   "outputs": [],
   "source": [
    "import ast\n",
    "\n",
    "# Convert the string representation of the list to a list\n",
    "df['topics'] = df['topics'].apply(ast.literal_eval)\n"
   ]
  },
  {
   "cell_type": "code",
   "execution_count": null,
   "id": "88ba24a0",
   "metadata": {},
   "outputs": [],
   "source": [
    "# Function to extract the most repeated word from a list of words\n",
    "def get_most_repeated_word(words):\n",
    "    lemmatized_words = [token.lemma_ for token in nlp(' '.join(words))]\n",
    "    word_counts = Counter(lemmatized_words)\n",
    "    most_common_word, count = word_counts.most_common(1)[0]\n",
    "    return most_common_word if count > 1 else lemmatized_words[0]"
   ]
  },
  {
   "cell_type": "code",
   "execution_count": null,
   "id": "944dc818",
   "metadata": {},
   "outputs": [],
   "source": [
    "import pandas as pd\n",
    "from collections import Counter\n",
    "from collections import defaultdict\n",
    "from collections import defaultdict, Counter"
   ]
  },
  {
   "cell_type": "code",
   "execution_count": null,
   "id": "46fa203a",
   "metadata": {},
   "outputs": [],
   "source": [
    "\n",
    "# Define the updated get_most_repeated_word() function\n",
    "def get_most_repeated_word(words, assigned_words):\n",
    "    lemmatized_words = [token.lemma_ for token in nlp(' '.join(words))]\n",
    "    word_counts = Counter(lemmatized_words)\n",
    "\n",
    "    for word, count in word_counts.most_common():\n",
    "        if count > 1:\n",
    "            root_word = word\n",
    "            if root_word not in assigned_words:\n",
    "                return root_word\n",
    "\n",
    "    for word in words:\n",
    "        if word not in assigned_words:\n",
    "            return word\n",
    "\n",
    "    # If all words are already assigned, assign a unique repeated word with a numbering scheme\n",
    "    numbering = 1\n",
    "    while True:\n",
    "        repeated_word = f\"{words[0]}_{numbering}\"\n",
    "        if repeated_word not in assigned_words:\n",
    "            return repeated_word\n",
    "        numbering += 1\n",
    "\n",
    "    # If no unique repeated word can be assigned, return None\n",
    "    return None\n",
    "\n",
    "# Assuming df is your DataFrame\n",
    "assigned_words = set()\n",
    "df['topic_title'] = df['topics'].apply(lambda x: get_most_repeated_word(x, assigned_words) if isinstance(x, list) else None)\n",
    "\n",
    "# Update the assigned_words set with the newly assigned repeated words\n",
    "assigned_words.update(df['topic_title'].dropna())\n",
    "\n",
    "# Print the DataFrame to verify the changes\n",
    "print(df)\n"
   ]
  },
  {
   "cell_type": "code",
   "execution_count": null,
   "id": "ff2c2b04",
   "metadata": {},
   "outputs": [],
   "source": [
    "# Group the DataFrame by 'repeated_word' and apply a lambda function to create a set of unique topics for each repeated word\n",
    "df_duplicates = df.groupby('topic_title')['topics'].apply(lambda x: set(tuple(topic) for topic in x)).reset_index()\n",
    "\n",
    "# Calculate the number of unique topics for each repeated word and add it as a new column 'num_unique_topics'\n",
    "df_duplicates['num_unique_topics'] = df_duplicates['topics'].apply(len)\n",
    "\n",
    "# Filter out rows where the number of unique topics is greater than 1, and get the list of duplicated repeated words\n",
    "duplicated_repeated_words = df_duplicates[df_duplicates['num_unique_topics'] > 1]['topic_title'].tolist()\n",
    "\n",
    "# Print the list of duplicated repeated words\n",
    "print(duplicated_repeated_words)\n"
   ]
  },
  {
   "cell_type": "code",
   "execution_count": null,
   "id": "029a8a2e",
   "metadata": {},
   "outputs": [],
   "source": [
    "# Define a dictionary to store the unique words for each topic\n",
    "topic_repeated_words = {\n",
    "    ('2050', '2030s', 'catastrophic', 'decades', '2040s', '2060', '2045', 'famine', 'billion', '2040'): 'catastrophe',\n",
    "    #add more topics and topic titles\n",
    "}\n",
    "\n",
    "def update_repeated_word(row):\n",
    "    topics = tuple(row['topics'])  # Convert the list to a tuple\n",
    "    repeated_word = row['topic_title']\n",
    "    \n",
    "    # Update the repeated word based on the topic using the dictionary\n",
    "    if topics in topic_repeated_words:\n",
    "        repeated_word = topic_repeated_words[topics]\n",
    "    \n",
    "    # Return the updated repeated word\n",
    "    return repeated_word\n",
    "\n",
    "# Apply the function to update the repeated word column\n",
    "df['topic_title'] = df.apply(update_repeated_word, axis=1)\n"
   ]
  },
  {
   "cell_type": "code",
   "execution_count": null,
   "id": "69aeaf40",
   "metadata": {},
   "outputs": [],
   "source": [
    "df.to_csv('edge_list.csv', index=False)"
   ]
  }
 ],
 "metadata": {
  "kernelspec": {
   "display_name": "Python 3 (ipykernel)",
   "language": "python",
   "name": "python3"
  },
  "language_info": {
   "codemirror_mode": {
    "name": "ipython",
    "version": 3
   },
   "file_extension": ".py",
   "mimetype": "text/x-python",
   "name": "python",
   "nbconvert_exporter": "python",
   "pygments_lexer": "ipython3",
   "version": "3.9.12"
  }
 },
 "nbformat": 4,
 "nbformat_minor": 5
}
